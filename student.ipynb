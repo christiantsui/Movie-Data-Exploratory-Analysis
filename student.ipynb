{
 "cells": [
  {
   "cell_type": "markdown",
   "metadata": {},
   "source": [
    "# Business Analysis of Movie Data\n",
    "### By: Christian Tsui\n"
   ]
  },
  {
   "cell_type": "markdown",
   "metadata": {},
   "source": [
    "## Import Packages"
   ]
  },
  {
   "cell_type": "code",
   "execution_count": 1,
   "metadata": {},
   "outputs": [],
   "source": [
    "# Your code here - remember to use markdown cells for comments as well!\n",
    "# Connecting to the Database\n",
    "import pandas as pd\n",
    "import sqlite3\n",
    "import matplotlib.pyplot as plt\n",
    "import seaborn as sns\n",
    "import re\n",
    "import numpy as np\n",
    "import requests\n",
    "import time\n",
    "import plotly.express as px\n",
    "from bs4 import BeautifulSoup\n",
    "%matplotlib inline\n"
   ]
  },
  {
   "cell_type": "markdown",
   "metadata": {},
   "source": [
    "## Load & Preview Dataset"
   ]
  },
  {
   "cell_type": "code",
   "execution_count": 2,
   "metadata": {},
   "outputs": [],
   "source": [
    "gross_csv = \"./zippedData/bom.movie_gross.csv.gz\"\n",
    "imdb_zip = \"./zippedData/im.db\"\n",
    "info_tsv = \"./zippedData/rt.movie_info.tsv.gz\"\n",
    "reviews_tsv = \"./zippedData/rt.reviews.tsv.gz\"\n",
    "tmdb_csv = \"./zippedData/tmdb.movies.csv.gz\"\n",
    "budgets_csv = \"./zippedData/tn.movie_budgets.csv.gz\""
   ]
  },
  {
   "cell_type": "code",
   "execution_count": 3,
   "metadata": {},
   "outputs": [],
   "source": [
    "movie_gross_df = pd.read_csv(gross_csv)\n",
    "movie_info_df = pd.read_csv(info_tsv, delimiter='\\t')\n",
    "movie_reviews_df = pd.read_csv(reviews_tsv, delimiter='\\t', encoding='latin-1')\n",
    "tmdb_df = pd.read_csv(tmdb_csv)\n",
    "budgets_df = pd.read_csv(budgets_csv)"
   ]
  },
  {
   "cell_type": "markdown",
   "metadata": {},
   "source": [
    "# Question 1: What genre of movies are the most successful?"
   ]
  },
  {
   "cell_type": "markdown",
   "metadata": {},
   "source": [
    "This question explores the idea of what genre of movies are the best performing in the box office based off of Return on Investment (ROI). I am using ROI as the measure of success because it is a popular performance metric that evaluates the efficiency of different investments. If there are trends that indicate certain genres are more successful, Microsoft should consider allocating their resources to producting movies with those specific themes."
   ]
  },
  {
   "cell_type": "markdown",
   "metadata": {},
   "source": [
    "## Method:"
   ]
  },
  {
   "cell_type": "markdown",
   "metadata": {},
   "source": [
    "### Read in Imdb Data"
   ]
  },
  {
   "cell_type": "code",
   "execution_count": 4,
   "metadata": {},
   "outputs": [
    {
     "data": {
      "text/html": [
       "<div>\n",
       "<style scoped>\n",
       "    .dataframe tbody tr th:only-of-type {\n",
       "        vertical-align: middle;\n",
       "    }\n",
       "\n",
       "    .dataframe tbody tr th {\n",
       "        vertical-align: top;\n",
       "    }\n",
       "\n",
       "    .dataframe thead th {\n",
       "        text-align: right;\n",
       "    }\n",
       "</style>\n",
       "<table border=\"1\" class=\"dataframe\">\n",
       "  <thead>\n",
       "    <tr style=\"text-align: right;\">\n",
       "      <th></th>\n",
       "      <th>name</th>\n",
       "    </tr>\n",
       "  </thead>\n",
       "  <tbody>\n",
       "    <tr>\n",
       "      <th>0</th>\n",
       "      <td>movie_basics</td>\n",
       "    </tr>\n",
       "    <tr>\n",
       "      <th>1</th>\n",
       "      <td>directors</td>\n",
       "    </tr>\n",
       "    <tr>\n",
       "      <th>2</th>\n",
       "      <td>known_for</td>\n",
       "    </tr>\n",
       "    <tr>\n",
       "      <th>3</th>\n",
       "      <td>movie_akas</td>\n",
       "    </tr>\n",
       "    <tr>\n",
       "      <th>4</th>\n",
       "      <td>movie_ratings</td>\n",
       "    </tr>\n",
       "    <tr>\n",
       "      <th>5</th>\n",
       "      <td>persons</td>\n",
       "    </tr>\n",
       "    <tr>\n",
       "      <th>6</th>\n",
       "      <td>principals</td>\n",
       "    </tr>\n",
       "    <tr>\n",
       "      <th>7</th>\n",
       "      <td>writers</td>\n",
       "    </tr>\n",
       "  </tbody>\n",
       "</table>\n",
       "</div>"
      ],
      "text/plain": [
       "            name\n",
       "0   movie_basics\n",
       "1      directors\n",
       "2      known_for\n",
       "3     movie_akas\n",
       "4  movie_ratings\n",
       "5        persons\n",
       "6     principals\n",
       "7        writers"
      ]
     },
     "execution_count": 4,
     "metadata": {},
     "output_type": "execute_result"
    }
   ],
   "source": [
    "# Connecting to the Database\n",
    "conn = sqlite3.connect(\"./zippedData/im.db\")\n",
    "\n",
    "# Viewing the list of tables\n",
    "imdb_tables = pd.read_sql(\"\"\"SELECT name FROM sqlite_master WHERE type = 'table';\"\"\", conn)\n",
    "imdb_tables"
   ]
  },
  {
   "cell_type": "markdown",
   "metadata": {},
   "source": [
    "### Inspecting the Imdb Data"
   ]
  },
  {
   "cell_type": "code",
   "execution_count": 5,
   "metadata": {},
   "outputs": [
    {
     "name": "stdout",
     "output_type": "stream",
     "text": [
      "<class 'pandas.core.frame.DataFrame'>\n",
      "RangeIndex: 146144 entries, 0 to 146143\n",
      "Data columns (total 6 columns):\n",
      " #   Column           Non-Null Count   Dtype  \n",
      "---  ------           --------------   -----  \n",
      " 0   movie_id         146144 non-null  object \n",
      " 1   primary_title    146144 non-null  object \n",
      " 2   original_title   146123 non-null  object \n",
      " 3   start_year       146144 non-null  int64  \n",
      " 4   runtime_minutes  114405 non-null  float64\n",
      " 5   genres           140736 non-null  object \n",
      "dtypes: float64(1), int64(1), object(4)\n",
      "memory usage: 6.7+ MB\n"
     ]
    },
    {
     "data": {
      "text/html": [
       "<div>\n",
       "<style scoped>\n",
       "    .dataframe tbody tr th:only-of-type {\n",
       "        vertical-align: middle;\n",
       "    }\n",
       "\n",
       "    .dataframe tbody tr th {\n",
       "        vertical-align: top;\n",
       "    }\n",
       "\n",
       "    .dataframe thead th {\n",
       "        text-align: right;\n",
       "    }\n",
       "</style>\n",
       "<table border=\"1\" class=\"dataframe\">\n",
       "  <thead>\n",
       "    <tr style=\"text-align: right;\">\n",
       "      <th></th>\n",
       "      <th>start_year</th>\n",
       "      <th>runtime_minutes</th>\n",
       "    </tr>\n",
       "  </thead>\n",
       "  <tbody>\n",
       "    <tr>\n",
       "      <th>count</th>\n",
       "      <td>146144.000000</td>\n",
       "      <td>114405.000000</td>\n",
       "    </tr>\n",
       "    <tr>\n",
       "      <th>mean</th>\n",
       "      <td>2014.621798</td>\n",
       "      <td>86.187247</td>\n",
       "    </tr>\n",
       "    <tr>\n",
       "      <th>std</th>\n",
       "      <td>2.733583</td>\n",
       "      <td>166.360590</td>\n",
       "    </tr>\n",
       "    <tr>\n",
       "      <th>min</th>\n",
       "      <td>2010.000000</td>\n",
       "      <td>1.000000</td>\n",
       "    </tr>\n",
       "    <tr>\n",
       "      <th>25%</th>\n",
       "      <td>2012.000000</td>\n",
       "      <td>70.000000</td>\n",
       "    </tr>\n",
       "    <tr>\n",
       "      <th>50%</th>\n",
       "      <td>2015.000000</td>\n",
       "      <td>87.000000</td>\n",
       "    </tr>\n",
       "    <tr>\n",
       "      <th>75%</th>\n",
       "      <td>2017.000000</td>\n",
       "      <td>99.000000</td>\n",
       "    </tr>\n",
       "    <tr>\n",
       "      <th>max</th>\n",
       "      <td>2115.000000</td>\n",
       "      <td>51420.000000</td>\n",
       "    </tr>\n",
       "  </tbody>\n",
       "</table>\n",
       "</div>"
      ],
      "text/plain": [
       "          start_year  runtime_minutes\n",
       "count  146144.000000    114405.000000\n",
       "mean     2014.621798        86.187247\n",
       "std         2.733583       166.360590\n",
       "min      2010.000000         1.000000\n",
       "25%      2012.000000        70.000000\n",
       "50%      2015.000000        87.000000\n",
       "75%      2017.000000        99.000000\n",
       "max      2115.000000     51420.000000"
      ]
     },
     "execution_count": 5,
     "metadata": {},
     "output_type": "execute_result"
    }
   ],
   "source": [
    "# Previewing the data\n",
    "pd.read_sql(\"\"\"\n",
    "SELECT * FROM movie_basics\n",
    "LIMIT 5;\"\"\", conn)\n",
    "\n",
    "# Creating a variable\n",
    "imdb_basics = pd.read_sql(\"\"\"SELECT * FROM movie_basics;\"\"\", conn)\n",
    "\n",
    "# Inspecting the data types, missing values\n",
    "imdb_basics.info()\n",
    "\n",
    "imdb_basics.describe()"
   ]
  },
  {
   "cell_type": "markdown",
   "metadata": {},
   "source": [
    "### Cleaning the Imdb Basics Table"
   ]
  },
  {
   "cell_type": "code",
   "execution_count": 6,
   "metadata": {},
   "outputs": [],
   "source": [
    "# For a large dataset, dropping missing values is appropriate\n",
    "imdb_basics.dropna(inplace=True)\n",
    "\n",
    "# Looking at the 'genres' column, we have to separate the genres in order to correctly categorize the movies\n",
    "# Seperating the genres into multiple genres\n",
    "imdb_basics['genres'] = imdb_basics['genres'].apply(lambda x: x.split(','))"
   ]
  },
  {
   "cell_type": "code",
   "execution_count": 7,
   "metadata": {},
   "outputs": [],
   "source": [
    "# Create a new column containing the first genre\n",
    "imdb_basics['main_genre'] = imdb_basics['genres'].apply(lambda x: x[0])"
   ]
  },
  {
   "cell_type": "code",
   "execution_count": 8,
   "metadata": {},
   "outputs": [
    {
     "data": {
      "text/html": [
       "<div>\n",
       "<style scoped>\n",
       "    .dataframe tbody tr th:only-of-type {\n",
       "        vertical-align: middle;\n",
       "    }\n",
       "\n",
       "    .dataframe tbody tr th {\n",
       "        vertical-align: top;\n",
       "    }\n",
       "\n",
       "    .dataframe thead th {\n",
       "        text-align: right;\n",
       "    }\n",
       "</style>\n",
       "<table border=\"1\" class=\"dataframe\">\n",
       "  <thead>\n",
       "    <tr style=\"text-align: right;\">\n",
       "      <th></th>\n",
       "      <th>primary_title</th>\n",
       "      <th>start_year</th>\n",
       "      <th>runtime_minutes</th>\n",
       "      <th>genres</th>\n",
       "      <th>main_genre</th>\n",
       "    </tr>\n",
       "  </thead>\n",
       "  <tbody>\n",
       "    <tr>\n",
       "      <th>0</th>\n",
       "      <td>Sunghursh</td>\n",
       "      <td>2013</td>\n",
       "      <td>175.0</td>\n",
       "      <td>[Action, Crime, Drama]</td>\n",
       "      <td>Action</td>\n",
       "    </tr>\n",
       "    <tr>\n",
       "      <th>1</th>\n",
       "      <td>One Day Before the Rainy Season</td>\n",
       "      <td>2019</td>\n",
       "      <td>114.0</td>\n",
       "      <td>[Biography, Drama]</td>\n",
       "      <td>Biography</td>\n",
       "    </tr>\n",
       "    <tr>\n",
       "      <th>2</th>\n",
       "      <td>The Other Side of the Wind</td>\n",
       "      <td>2018</td>\n",
       "      <td>122.0</td>\n",
       "      <td>[Drama]</td>\n",
       "      <td>Drama</td>\n",
       "    </tr>\n",
       "    <tr>\n",
       "      <th>4</th>\n",
       "      <td>The Wandering Soap Opera</td>\n",
       "      <td>2017</td>\n",
       "      <td>80.0</td>\n",
       "      <td>[Comedy, Drama, Fantasy]</td>\n",
       "      <td>Comedy</td>\n",
       "    </tr>\n",
       "    <tr>\n",
       "      <th>5</th>\n",
       "      <td>A Thin Life</td>\n",
       "      <td>2018</td>\n",
       "      <td>75.0</td>\n",
       "      <td>[Comedy]</td>\n",
       "      <td>Comedy</td>\n",
       "    </tr>\n",
       "    <tr>\n",
       "      <th>...</th>\n",
       "      <td>...</td>\n",
       "      <td>...</td>\n",
       "      <td>...</td>\n",
       "      <td>...</td>\n",
       "      <td>...</td>\n",
       "    </tr>\n",
       "    <tr>\n",
       "      <th>146134</th>\n",
       "      <td>Drømmeland</td>\n",
       "      <td>2019</td>\n",
       "      <td>72.0</td>\n",
       "      <td>[Documentary]</td>\n",
       "      <td>Documentary</td>\n",
       "    </tr>\n",
       "    <tr>\n",
       "      <th>146135</th>\n",
       "      <td>The Rehearsal</td>\n",
       "      <td>2019</td>\n",
       "      <td>51.0</td>\n",
       "      <td>[Drama]</td>\n",
       "      <td>Drama</td>\n",
       "    </tr>\n",
       "    <tr>\n",
       "      <th>146136</th>\n",
       "      <td>Illenau - die Geschichte einer ehemaligen Heil...</td>\n",
       "      <td>2017</td>\n",
       "      <td>84.0</td>\n",
       "      <td>[Documentary]</td>\n",
       "      <td>Documentary</td>\n",
       "    </tr>\n",
       "    <tr>\n",
       "      <th>146137</th>\n",
       "      <td>Safeguard</td>\n",
       "      <td>2019</td>\n",
       "      <td>90.0</td>\n",
       "      <td>[Drama, Thriller]</td>\n",
       "      <td>Drama</td>\n",
       "    </tr>\n",
       "    <tr>\n",
       "      <th>146139</th>\n",
       "      <td>Kuambil Lagi Hatiku</td>\n",
       "      <td>2019</td>\n",
       "      <td>123.0</td>\n",
       "      <td>[Drama]</td>\n",
       "      <td>Drama</td>\n",
       "    </tr>\n",
       "  </tbody>\n",
       "</table>\n",
       "<p>112232 rows × 5 columns</p>\n",
       "</div>"
      ],
      "text/plain": [
       "                                            primary_title  start_year  \\\n",
       "0                                               Sunghursh        2013   \n",
       "1                         One Day Before the Rainy Season        2019   \n",
       "2                              The Other Side of the Wind        2018   \n",
       "4                                The Wandering Soap Opera        2017   \n",
       "5                                             A Thin Life        2018   \n",
       "...                                                   ...         ...   \n",
       "146134                                         Drømmeland        2019   \n",
       "146135                                      The Rehearsal        2019   \n",
       "146136  Illenau - die Geschichte einer ehemaligen Heil...        2017   \n",
       "146137                                          Safeguard        2019   \n",
       "146139                                Kuambil Lagi Hatiku        2019   \n",
       "\n",
       "        runtime_minutes                    genres   main_genre  \n",
       "0                 175.0    [Action, Crime, Drama]       Action  \n",
       "1                 114.0        [Biography, Drama]    Biography  \n",
       "2                 122.0                   [Drama]        Drama  \n",
       "4                  80.0  [Comedy, Drama, Fantasy]       Comedy  \n",
       "5                  75.0                  [Comedy]       Comedy  \n",
       "...                 ...                       ...          ...  \n",
       "146134             72.0             [Documentary]  Documentary  \n",
       "146135             51.0                   [Drama]        Drama  \n",
       "146136             84.0             [Documentary]  Documentary  \n",
       "146137             90.0         [Drama, Thriller]        Drama  \n",
       "146139            123.0                   [Drama]        Drama  \n",
       "\n",
       "[112232 rows x 5 columns]"
      ]
     },
     "execution_count": 8,
     "metadata": {},
     "output_type": "execute_result"
    }
   ],
   "source": [
    "# Resetting columns\n",
    "imdb_basics.drop(['movie_id','original_title'], axis=1)"
   ]
  },
  {
   "cell_type": "code",
   "execution_count": 9,
   "metadata": {},
   "outputs": [
    {
     "data": {
      "text/html": [
       "<div>\n",
       "<style scoped>\n",
       "    .dataframe tbody tr th:only-of-type {\n",
       "        vertical-align: middle;\n",
       "    }\n",
       "\n",
       "    .dataframe tbody tr th {\n",
       "        vertical-align: top;\n",
       "    }\n",
       "\n",
       "    .dataframe thead th {\n",
       "        text-align: right;\n",
       "    }\n",
       "</style>\n",
       "<table border=\"1\" class=\"dataframe\">\n",
       "  <thead>\n",
       "    <tr style=\"text-align: right;\">\n",
       "      <th></th>\n",
       "      <th>primary_title</th>\n",
       "      <th>main_genre</th>\n",
       "    </tr>\n",
       "  </thead>\n",
       "  <tbody>\n",
       "    <tr>\n",
       "      <th>0</th>\n",
       "      <td>Sunghursh</td>\n",
       "      <td>Action</td>\n",
       "    </tr>\n",
       "    <tr>\n",
       "      <th>1</th>\n",
       "      <td>One Day Before the Rainy Season</td>\n",
       "      <td>Biography</td>\n",
       "    </tr>\n",
       "    <tr>\n",
       "      <th>2</th>\n",
       "      <td>The Other Side of the Wind</td>\n",
       "      <td>Drama</td>\n",
       "    </tr>\n",
       "    <tr>\n",
       "      <th>4</th>\n",
       "      <td>The Wandering Soap Opera</td>\n",
       "      <td>Comedy</td>\n",
       "    </tr>\n",
       "    <tr>\n",
       "      <th>5</th>\n",
       "      <td>A Thin Life</td>\n",
       "      <td>Comedy</td>\n",
       "    </tr>\n",
       "    <tr>\n",
       "      <th>...</th>\n",
       "      <td>...</td>\n",
       "      <td>...</td>\n",
       "    </tr>\n",
       "    <tr>\n",
       "      <th>146134</th>\n",
       "      <td>Drømmeland</td>\n",
       "      <td>Documentary</td>\n",
       "    </tr>\n",
       "    <tr>\n",
       "      <th>146135</th>\n",
       "      <td>The Rehearsal</td>\n",
       "      <td>Drama</td>\n",
       "    </tr>\n",
       "    <tr>\n",
       "      <th>146136</th>\n",
       "      <td>Illenau - die Geschichte einer ehemaligen Heil...</td>\n",
       "      <td>Documentary</td>\n",
       "    </tr>\n",
       "    <tr>\n",
       "      <th>146137</th>\n",
       "      <td>Safeguard</td>\n",
       "      <td>Drama</td>\n",
       "    </tr>\n",
       "    <tr>\n",
       "      <th>146139</th>\n",
       "      <td>Kuambil Lagi Hatiku</td>\n",
       "      <td>Drama</td>\n",
       "    </tr>\n",
       "  </tbody>\n",
       "</table>\n",
       "<p>112232 rows × 2 columns</p>\n",
       "</div>"
      ],
      "text/plain": [
       "                                            primary_title   main_genre\n",
       "0                                               Sunghursh       Action\n",
       "1                         One Day Before the Rainy Season    Biography\n",
       "2                              The Other Side of the Wind        Drama\n",
       "4                                The Wandering Soap Opera       Comedy\n",
       "5                                             A Thin Life       Comedy\n",
       "...                                                   ...          ...\n",
       "146134                                         Drømmeland  Documentary\n",
       "146135                                      The Rehearsal        Drama\n",
       "146136  Illenau - die Geschichte einer ehemaligen Heil...  Documentary\n",
       "146137                                          Safeguard        Drama\n",
       "146139                                Kuambil Lagi Hatiku        Drama\n",
       "\n",
       "[112232 rows x 2 columns]"
      ]
     },
     "execution_count": 9,
     "metadata": {},
     "output_type": "execute_result"
    }
   ],
   "source": [
    "imdb_clean = imdb_basics.loc[:,['primary_title','main_genre']]\n",
    "imdb_clean"
   ]
  },
  {
   "cell_type": "markdown",
   "metadata": {},
   "source": [
    "### Inspect the Gross Revenue Data"
   ]
  },
  {
   "cell_type": "code",
   "execution_count": 10,
   "metadata": {},
   "outputs": [
    {
     "data": {
      "text/html": [
       "<div>\n",
       "<style scoped>\n",
       "    .dataframe tbody tr th:only-of-type {\n",
       "        vertical-align: middle;\n",
       "    }\n",
       "\n",
       "    .dataframe tbody tr th {\n",
       "        vertical-align: top;\n",
       "    }\n",
       "\n",
       "    .dataframe thead th {\n",
       "        text-align: right;\n",
       "    }\n",
       "</style>\n",
       "<table border=\"1\" class=\"dataframe\">\n",
       "  <thead>\n",
       "    <tr style=\"text-align: right;\">\n",
       "      <th></th>\n",
       "      <th>title</th>\n",
       "      <th>studio</th>\n",
       "      <th>domestic_gross</th>\n",
       "      <th>foreign_gross</th>\n",
       "      <th>year</th>\n",
       "    </tr>\n",
       "  </thead>\n",
       "  <tbody>\n",
       "    <tr>\n",
       "      <th>0</th>\n",
       "      <td>Toy Story 3</td>\n",
       "      <td>BV</td>\n",
       "      <td>415000000.0</td>\n",
       "      <td>652000000</td>\n",
       "      <td>2010</td>\n",
       "    </tr>\n",
       "    <tr>\n",
       "      <th>1</th>\n",
       "      <td>Alice in Wonderland (2010)</td>\n",
       "      <td>BV</td>\n",
       "      <td>334200000.0</td>\n",
       "      <td>691300000</td>\n",
       "      <td>2010</td>\n",
       "    </tr>\n",
       "    <tr>\n",
       "      <th>2</th>\n",
       "      <td>Harry Potter and the Deathly Hallows Part 1</td>\n",
       "      <td>WB</td>\n",
       "      <td>296000000.0</td>\n",
       "      <td>664300000</td>\n",
       "      <td>2010</td>\n",
       "    </tr>\n",
       "  </tbody>\n",
       "</table>\n",
       "</div>"
      ],
      "text/plain": [
       "                                         title studio  domestic_gross  \\\n",
       "0                                  Toy Story 3     BV     415000000.0   \n",
       "1                   Alice in Wonderland (2010)     BV     334200000.0   \n",
       "2  Harry Potter and the Deathly Hallows Part 1     WB     296000000.0   \n",
       "\n",
       "  foreign_gross  year  \n",
       "0     652000000  2010  \n",
       "1     691300000  2010  \n",
       "2     664300000  2010  "
      ]
     },
     "execution_count": 10,
     "metadata": {},
     "output_type": "execute_result"
    }
   ],
   "source": [
    "movie_gross_df.head(3)"
   ]
  },
  {
   "cell_type": "code",
   "execution_count": 11,
   "metadata": {
    "scrolled": true
   },
   "outputs": [
    {
     "name": "stdout",
     "output_type": "stream",
     "text": [
      "<class 'pandas.core.frame.DataFrame'>\n",
      "RangeIndex: 3387 entries, 0 to 3386\n",
      "Data columns (total 5 columns):\n",
      " #   Column          Non-Null Count  Dtype  \n",
      "---  ------          --------------  -----  \n",
      " 0   title           3387 non-null   object \n",
      " 1   studio          3382 non-null   object \n",
      " 2   domestic_gross  3359 non-null   float64\n",
      " 3   foreign_gross   2037 non-null   object \n",
      " 4   year            3387 non-null   int64  \n",
      "dtypes: float64(1), int64(1), object(3)\n",
      "memory usage: 132.4+ KB\n"
     ]
    }
   ],
   "source": [
    "# As you can see there is missing data ('studio', 'domestic_gross', 'foreign_gross')\n",
    "# 'foreign_gross' is also listen as an object, so I would like to convert it to a float\n",
    "movie_gross_df.info()"
   ]
  },
  {
   "cell_type": "markdown",
   "metadata": {},
   "source": [
    "### Cleaning the Gross Revenue Dataset"
   ]
  },
  {
   "cell_type": "code",
   "execution_count": 12,
   "metadata": {},
   "outputs": [
    {
     "name": "stdout",
     "output_type": "stream",
     "text": [
      "<class 'pandas.core.frame.DataFrame'>\n",
      "Int64Index: 2007 entries, 0 to 3353\n",
      "Data columns (total 5 columns):\n",
      " #   Column          Non-Null Count  Dtype  \n",
      "---  ------          --------------  -----  \n",
      " 0   title           2007 non-null   object \n",
      " 1   studio          2007 non-null   object \n",
      " 2   domestic_gross  2007 non-null   float64\n",
      " 3   foreign_gross   2007 non-null   object \n",
      " 4   year            2007 non-null   int64  \n",
      "dtypes: float64(1), int64(1), object(3)\n",
      "memory usage: 94.1+ KB\n"
     ]
    }
   ],
   "source": [
    "# Dropping missing values to maintain uifomity in the dataset\n",
    "movie_gross_df.dropna(inplace=True)\n",
    "movie_gross_df.info()"
   ]
  },
  {
   "cell_type": "code",
   "execution_count": 13,
   "metadata": {},
   "outputs": [],
   "source": [
    "# Convert relavent data to float to provide consistency\n",
    "# Removing punctuation in the string, converting to float\n",
    "movie_gross_df['foreign_gross'] = movie_gross_df['foreign_gross'].str.replace(',','').astype(float)"
   ]
  },
  {
   "cell_type": "code",
   "execution_count": 14,
   "metadata": {},
   "outputs": [
    {
     "data": {
      "text/html": [
       "<div>\n",
       "<style scoped>\n",
       "    .dataframe tbody tr th:only-of-type {\n",
       "        vertical-align: middle;\n",
       "    }\n",
       "\n",
       "    .dataframe tbody tr th {\n",
       "        vertical-align: top;\n",
       "    }\n",
       "\n",
       "    .dataframe thead th {\n",
       "        text-align: right;\n",
       "    }\n",
       "</style>\n",
       "<table border=\"1\" class=\"dataframe\">\n",
       "  <thead>\n",
       "    <tr style=\"text-align: right;\">\n",
       "      <th></th>\n",
       "      <th>title</th>\n",
       "      <th>total_gross</th>\n",
       "      <th>year</th>\n",
       "    </tr>\n",
       "  </thead>\n",
       "  <tbody>\n",
       "    <tr>\n",
       "      <th>0</th>\n",
       "      <td>Toy Story 3</td>\n",
       "      <td>1.067000e+09</td>\n",
       "      <td>2010</td>\n",
       "    </tr>\n",
       "    <tr>\n",
       "      <th>1</th>\n",
       "      <td>Alice in Wonderland (2010)</td>\n",
       "      <td>1.025500e+09</td>\n",
       "      <td>2010</td>\n",
       "    </tr>\n",
       "    <tr>\n",
       "      <th>2</th>\n",
       "      <td>Harry Potter and the Deathly Hallows Part 1</td>\n",
       "      <td>9.603000e+08</td>\n",
       "      <td>2010</td>\n",
       "    </tr>\n",
       "  </tbody>\n",
       "</table>\n",
       "</div>"
      ],
      "text/plain": [
       "                                         title   total_gross  year\n",
       "0                                  Toy Story 3  1.067000e+09  2010\n",
       "1                   Alice in Wonderland (2010)  1.025500e+09  2010\n",
       "2  Harry Potter and the Deathly Hallows Part 1  9.603000e+08  2010"
      ]
     },
     "execution_count": 14,
     "metadata": {},
     "output_type": "execute_result"
    }
   ],
   "source": [
    "# Creating a 'total_gross' column\n",
    "movie_gross_df['total_gross'] = movie_gross_df['domestic_gross'] + movie_gross_df['foreign_gross']\n",
    "movie_gross_df = movie_gross_df.loc[:,['title','total_gross','year']]\n",
    "movie_gross_df.head(3)"
   ]
  },
  {
   "cell_type": "code",
   "execution_count": 15,
   "metadata": {},
   "outputs": [
    {
     "name": "stdout",
     "output_type": "stream",
     "text": [
      "<class 'pandas.core.frame.DataFrame'>\n",
      "Int64Index: 2007 entries, 0 to 3353\n",
      "Data columns (total 3 columns):\n",
      " #   Column       Non-Null Count  Dtype  \n",
      "---  ------       --------------  -----  \n",
      " 0   title        2007 non-null   object \n",
      " 1   total_gross  2007 non-null   float64\n",
      " 2   year         2007 non-null   int64  \n",
      "dtypes: float64(1), int64(1), object(1)\n",
      "memory usage: 62.7+ KB\n"
     ]
    }
   ],
   "source": [
    "# Checking to see data types\n",
    "movie_gross_df.info()"
   ]
  },
  {
   "cell_type": "code",
   "execution_count": 16,
   "metadata": {},
   "outputs": [
    {
     "data": {
      "text/html": [
       "<div>\n",
       "<style scoped>\n",
       "    .dataframe tbody tr th:only-of-type {\n",
       "        vertical-align: middle;\n",
       "    }\n",
       "\n",
       "    .dataframe tbody tr th {\n",
       "        vertical-align: top;\n",
       "    }\n",
       "\n",
       "    .dataframe thead th {\n",
       "        text-align: right;\n",
       "    }\n",
       "</style>\n",
       "<table border=\"1\" class=\"dataframe\">\n",
       "  <thead>\n",
       "    <tr style=\"text-align: right;\">\n",
       "      <th></th>\n",
       "      <th>total_gross</th>\n",
       "      <th>year</th>\n",
       "    </tr>\n",
       "  </thead>\n",
       "  <tbody>\n",
       "    <tr>\n",
       "      <th>count</th>\n",
       "      <td>2.007000e+03</td>\n",
       "      <td>2007.000000</td>\n",
       "    </tr>\n",
       "    <tr>\n",
       "      <th>mean</th>\n",
       "      <td>1.228102e+08</td>\n",
       "      <td>2013.506228</td>\n",
       "    </tr>\n",
       "    <tr>\n",
       "      <th>std</th>\n",
       "      <td>2.075562e+08</td>\n",
       "      <td>2.597997</td>\n",
       "    </tr>\n",
       "    <tr>\n",
       "      <th>min</th>\n",
       "      <td>4.900000e+03</td>\n",
       "      <td>2010.000000</td>\n",
       "    </tr>\n",
       "    <tr>\n",
       "      <th>25%</th>\n",
       "      <td>8.239000e+06</td>\n",
       "      <td>2011.000000</td>\n",
       "    </tr>\n",
       "    <tr>\n",
       "      <th>50%</th>\n",
       "      <td>4.240000e+07</td>\n",
       "      <td>2013.000000</td>\n",
       "    </tr>\n",
       "    <tr>\n",
       "      <th>75%</th>\n",
       "      <td>1.337500e+08</td>\n",
       "      <td>2016.000000</td>\n",
       "    </tr>\n",
       "    <tr>\n",
       "      <th>max</th>\n",
       "      <td>1.518900e+09</td>\n",
       "      <td>2018.000000</td>\n",
       "    </tr>\n",
       "  </tbody>\n",
       "</table>\n",
       "</div>"
      ],
      "text/plain": [
       "        total_gross         year\n",
       "count  2.007000e+03  2007.000000\n",
       "mean   1.228102e+08  2013.506228\n",
       "std    2.075562e+08     2.597997\n",
       "min    4.900000e+03  2010.000000\n",
       "25%    8.239000e+06  2011.000000\n",
       "50%    4.240000e+07  2013.000000\n",
       "75%    1.337500e+08  2016.000000\n",
       "max    1.518900e+09  2018.000000"
      ]
     },
     "execution_count": 16,
     "metadata": {},
     "output_type": "execute_result"
    }
   ],
   "source": [
    "# Information shows the dataset is from year 2010 to 2018\n",
    "movie_gross_df.describe()"
   ]
  },
  {
   "cell_type": "markdown",
   "metadata": {},
   "source": [
    "### Merging Gross Revenue Table with Genre Table"
   ]
  },
  {
   "cell_type": "code",
   "execution_count": 17,
   "metadata": {},
   "outputs": [],
   "source": [
    "# Using merge to combine tables\n",
    "gross_genre = movie_gross_df.merge(imdb_clean, how = 'left', left_on='title', right_on='primary_title')"
   ]
  },
  {
   "cell_type": "code",
   "execution_count": 18,
   "metadata": {},
   "outputs": [
    {
     "data": {
      "text/html": [
       "<div>\n",
       "<style scoped>\n",
       "    .dataframe tbody tr th:only-of-type {\n",
       "        vertical-align: middle;\n",
       "    }\n",
       "\n",
       "    .dataframe tbody tr th {\n",
       "        vertical-align: top;\n",
       "    }\n",
       "\n",
       "    .dataframe thead th {\n",
       "        text-align: right;\n",
       "    }\n",
       "</style>\n",
       "<table border=\"1\" class=\"dataframe\">\n",
       "  <thead>\n",
       "    <tr style=\"text-align: right;\">\n",
       "      <th></th>\n",
       "      <th>title</th>\n",
       "      <th>total_gross</th>\n",
       "      <th>year</th>\n",
       "      <th>primary_title</th>\n",
       "      <th>main_genre</th>\n",
       "    </tr>\n",
       "  </thead>\n",
       "  <tbody>\n",
       "    <tr>\n",
       "      <th>0</th>\n",
       "      <td>Toy Story 3</td>\n",
       "      <td>1.067000e+09</td>\n",
       "      <td>2010</td>\n",
       "      <td>Toy Story 3</td>\n",
       "      <td>Adventure</td>\n",
       "    </tr>\n",
       "    <tr>\n",
       "      <th>1</th>\n",
       "      <td>Alice in Wonderland (2010)</td>\n",
       "      <td>1.025500e+09</td>\n",
       "      <td>2010</td>\n",
       "      <td>NaN</td>\n",
       "      <td>NaN</td>\n",
       "    </tr>\n",
       "    <tr>\n",
       "      <th>2</th>\n",
       "      <td>Harry Potter and the Deathly Hallows Part 1</td>\n",
       "      <td>9.603000e+08</td>\n",
       "      <td>2010</td>\n",
       "      <td>NaN</td>\n",
       "      <td>NaN</td>\n",
       "    </tr>\n",
       "  </tbody>\n",
       "</table>\n",
       "</div>"
      ],
      "text/plain": [
       "                                         title   total_gross  year  \\\n",
       "0                                  Toy Story 3  1.067000e+09  2010   \n",
       "1                   Alice in Wonderland (2010)  1.025500e+09  2010   \n",
       "2  Harry Potter and the Deathly Hallows Part 1  9.603000e+08  2010   \n",
       "\n",
       "  primary_title main_genre  \n",
       "0   Toy Story 3  Adventure  \n",
       "1           NaN        NaN  \n",
       "2           NaN        NaN  "
      ]
     },
     "execution_count": 18,
     "metadata": {},
     "output_type": "execute_result"
    }
   ],
   "source": [
    "gross_genre.head(3)"
   ]
  },
  {
   "cell_type": "markdown",
   "metadata": {},
   "source": [
    "### Inspecting the Movie Budgets Data"
   ]
  },
  {
   "cell_type": "code",
   "execution_count": 19,
   "metadata": {},
   "outputs": [
    {
     "data": {
      "text/html": [
       "<div>\n",
       "<style scoped>\n",
       "    .dataframe tbody tr th:only-of-type {\n",
       "        vertical-align: middle;\n",
       "    }\n",
       "\n",
       "    .dataframe tbody tr th {\n",
       "        vertical-align: top;\n",
       "    }\n",
       "\n",
       "    .dataframe thead th {\n",
       "        text-align: right;\n",
       "    }\n",
       "</style>\n",
       "<table border=\"1\" class=\"dataframe\">\n",
       "  <thead>\n",
       "    <tr style=\"text-align: right;\">\n",
       "      <th></th>\n",
       "      <th>id</th>\n",
       "      <th>release_date</th>\n",
       "      <th>movie</th>\n",
       "      <th>production_budget</th>\n",
       "      <th>domestic_gross</th>\n",
       "      <th>worldwide_gross</th>\n",
       "    </tr>\n",
       "  </thead>\n",
       "  <tbody>\n",
       "    <tr>\n",
       "      <th>0</th>\n",
       "      <td>1</td>\n",
       "      <td>Dec 18, 2009</td>\n",
       "      <td>Avatar</td>\n",
       "      <td>$425,000,000</td>\n",
       "      <td>$760,507,625</td>\n",
       "      <td>$2,776,345,279</td>\n",
       "    </tr>\n",
       "    <tr>\n",
       "      <th>1</th>\n",
       "      <td>2</td>\n",
       "      <td>May 20, 2011</td>\n",
       "      <td>Pirates of the Caribbean: On Stranger Tides</td>\n",
       "      <td>$410,600,000</td>\n",
       "      <td>$241,063,875</td>\n",
       "      <td>$1,045,663,875</td>\n",
       "    </tr>\n",
       "    <tr>\n",
       "      <th>2</th>\n",
       "      <td>3</td>\n",
       "      <td>Jun 7, 2019</td>\n",
       "      <td>Dark Phoenix</td>\n",
       "      <td>$350,000,000</td>\n",
       "      <td>$42,762,350</td>\n",
       "      <td>$149,762,350</td>\n",
       "    </tr>\n",
       "  </tbody>\n",
       "</table>\n",
       "</div>"
      ],
      "text/plain": [
       "   id  release_date                                        movie  \\\n",
       "0   1  Dec 18, 2009                                       Avatar   \n",
       "1   2  May 20, 2011  Pirates of the Caribbean: On Stranger Tides   \n",
       "2   3   Jun 7, 2019                                 Dark Phoenix   \n",
       "\n",
       "  production_budget domestic_gross worldwide_gross  \n",
       "0      $425,000,000   $760,507,625  $2,776,345,279  \n",
       "1      $410,600,000   $241,063,875  $1,045,663,875  \n",
       "2      $350,000,000    $42,762,350    $149,762,350  "
      ]
     },
     "execution_count": 19,
     "metadata": {},
     "output_type": "execute_result"
    }
   ],
   "source": [
    "budgets_df.head(3)"
   ]
  },
  {
   "cell_type": "code",
   "execution_count": 20,
   "metadata": {},
   "outputs": [
    {
     "name": "stdout",
     "output_type": "stream",
     "text": [
      "<class 'pandas.core.frame.DataFrame'>\n",
      "RangeIndex: 5782 entries, 0 to 5781\n",
      "Data columns (total 6 columns):\n",
      " #   Column             Non-Null Count  Dtype \n",
      "---  ------             --------------  ----- \n",
      " 0   id                 5782 non-null   int64 \n",
      " 1   release_date       5782 non-null   object\n",
      " 2   movie              5782 non-null   object\n",
      " 3   production_budget  5782 non-null   object\n",
      " 4   domestic_gross     5782 non-null   object\n",
      " 5   worldwide_gross    5782 non-null   object\n",
      "dtypes: int64(1), object(5)\n",
      "memory usage: 271.2+ KB\n"
     ]
    }
   ],
   "source": [
    "# Displaying the data information, looking for missing values, data types\n",
    "budgets_df.info()"
   ]
  },
  {
   "cell_type": "markdown",
   "metadata": {},
   "source": [
    "### Cleaning the Budgets Data"
   ]
  },
  {
   "cell_type": "code",
   "execution_count": 21,
   "metadata": {},
   "outputs": [],
   "source": [
    "budgets_df['release_date'] = pd.to_datetime(budgets_df['release_date'])"
   ]
  },
  {
   "cell_type": "code",
   "execution_count": 22,
   "metadata": {},
   "outputs": [],
   "source": [
    "# extracting the relevant information\n",
    "budgets_clean = budgets_df.loc[:,['release_date','movie','production_budget', 'domestic_gross', 'worldwide_gross']]"
   ]
  },
  {
   "cell_type": "code",
   "execution_count": 23,
   "metadata": {},
   "outputs": [
    {
     "data": {
      "text/html": [
       "<div>\n",
       "<style scoped>\n",
       "    .dataframe tbody tr th:only-of-type {\n",
       "        vertical-align: middle;\n",
       "    }\n",
       "\n",
       "    .dataframe tbody tr th {\n",
       "        vertical-align: top;\n",
       "    }\n",
       "\n",
       "    .dataframe thead th {\n",
       "        text-align: right;\n",
       "    }\n",
       "</style>\n",
       "<table border=\"1\" class=\"dataframe\">\n",
       "  <thead>\n",
       "    <tr style=\"text-align: right;\">\n",
       "      <th></th>\n",
       "      <th>release_date</th>\n",
       "      <th>movie</th>\n",
       "      <th>production_budget</th>\n",
       "      <th>domestic_gross</th>\n",
       "      <th>worldwide_gross</th>\n",
       "    </tr>\n",
       "  </thead>\n",
       "  <tbody>\n",
       "    <tr>\n",
       "      <th>0</th>\n",
       "      <td>2009-12-18</td>\n",
       "      <td>Avatar</td>\n",
       "      <td>$425,000,000</td>\n",
       "      <td>$760,507,625</td>\n",
       "      <td>$2,776,345,279</td>\n",
       "    </tr>\n",
       "    <tr>\n",
       "      <th>1</th>\n",
       "      <td>2011-05-20</td>\n",
       "      <td>Pirates of the Caribbean: On Stranger Tides</td>\n",
       "      <td>$410,600,000</td>\n",
       "      <td>$241,063,875</td>\n",
       "      <td>$1,045,663,875</td>\n",
       "    </tr>\n",
       "    <tr>\n",
       "      <th>2</th>\n",
       "      <td>2019-06-07</td>\n",
       "      <td>Dark Phoenix</td>\n",
       "      <td>$350,000,000</td>\n",
       "      <td>$42,762,350</td>\n",
       "      <td>$149,762,350</td>\n",
       "    </tr>\n",
       "  </tbody>\n",
       "</table>\n",
       "</div>"
      ],
      "text/plain": [
       "  release_date                                        movie production_budget  \\\n",
       "0   2009-12-18                                       Avatar      $425,000,000   \n",
       "1   2011-05-20  Pirates of the Caribbean: On Stranger Tides      $410,600,000   \n",
       "2   2019-06-07                                 Dark Phoenix      $350,000,000   \n",
       "\n",
       "  domestic_gross worldwide_gross  \n",
       "0   $760,507,625  $2,776,345,279  \n",
       "1   $241,063,875  $1,045,663,875  \n",
       "2    $42,762,350    $149,762,350  "
      ]
     },
     "execution_count": 23,
     "metadata": {},
     "output_type": "execute_result"
    }
   ],
   "source": [
    "budgets_clean.head(3)"
   ]
  },
  {
   "cell_type": "code",
   "execution_count": 24,
   "metadata": {},
   "outputs": [],
   "source": [
    "# Cleaning 'production_budget' column (converting to str, removing any punctuation, converting to float)\n",
    "budgets_clean['production_budget'] = budgets_clean['production_budget'].str.replace('$','')\n",
    "budgets_clean['production_budget'] = budgets_clean['production_budget'].str.replace(',','').astype(float)"
   ]
  },
  {
   "cell_type": "code",
   "execution_count": 25,
   "metadata": {},
   "outputs": [],
   "source": [
    "# Cleaning 'domestic_gross' column (converting to str, removing any punctuation, converting to float)\n",
    "budgets_clean['domestic_gross'] = budgets_clean['domestic_gross'].str.replace('$','')\n",
    "budgets_clean['domestic_gross'] = budgets_clean['domestic_gross'].str.replace(',','').astype(float)\n"
   ]
  },
  {
   "cell_type": "code",
   "execution_count": 26,
   "metadata": {},
   "outputs": [],
   "source": [
    "# Cleaning 'worldwide_gross' column (converting to str, removing any punctuation, converting to float)\n",
    "budgets_clean['worldwide_gross'] = budgets_clean['worldwide_gross'].str.replace('$','')\n",
    "budgets_clean['worldwide_gross'] = budgets_clean['worldwide_gross'].str.replace(',','').astype(float)"
   ]
  },
  {
   "cell_type": "code",
   "execution_count": 27,
   "metadata": {},
   "outputs": [],
   "source": [
    "# Adding column for international gross, as worldwide gross can be misleading\n",
    "budgets_clean['international_gross'] = budgets_clean['worldwide_gross'] - budgets_clean['domestic_gross']\n",
    "# Rearranging columns in the dataset\n",
    "budgets_clean = budgets_clean.loc[:,['release_date','movie','production_budget','domestic_gross','international_gross','worldwide_gross']]\n"
   ]
  },
  {
   "cell_type": "code",
   "execution_count": 28,
   "metadata": {},
   "outputs": [],
   "source": [
    "# Adding a column calculating 'ROI'\n",
    "budgets_clean['roi'] = (((budgets_clean.worldwide_gross - budgets_clean.production_budget)/budgets_clean.production_budget)* 100).round(2)"
   ]
  },
  {
   "cell_type": "code",
   "execution_count": 29,
   "metadata": {},
   "outputs": [
    {
     "data": {
      "text/html": [
       "<div>\n",
       "<style scoped>\n",
       "    .dataframe tbody tr th:only-of-type {\n",
       "        vertical-align: middle;\n",
       "    }\n",
       "\n",
       "    .dataframe tbody tr th {\n",
       "        vertical-align: top;\n",
       "    }\n",
       "\n",
       "    .dataframe thead th {\n",
       "        text-align: right;\n",
       "    }\n",
       "</style>\n",
       "<table border=\"1\" class=\"dataframe\">\n",
       "  <thead>\n",
       "    <tr style=\"text-align: right;\">\n",
       "      <th></th>\n",
       "      <th>production_budget</th>\n",
       "      <th>domestic_gross</th>\n",
       "      <th>international_gross</th>\n",
       "      <th>worldwide_gross</th>\n",
       "      <th>roi</th>\n",
       "    </tr>\n",
       "  </thead>\n",
       "  <tbody>\n",
       "    <tr>\n",
       "      <th>count</th>\n",
       "      <td>5.782000e+03</td>\n",
       "      <td>5.782000e+03</td>\n",
       "      <td>5.782000e+03</td>\n",
       "      <td>5.782000e+03</td>\n",
       "      <td>5782.000000</td>\n",
       "    </tr>\n",
       "    <tr>\n",
       "      <th>mean</th>\n",
       "      <td>3.158776e+07</td>\n",
       "      <td>4.187333e+07</td>\n",
       "      <td>4.961413e+07</td>\n",
       "      <td>9.148746e+07</td>\n",
       "      <td>380.016166</td>\n",
       "    </tr>\n",
       "    <tr>\n",
       "      <th>std</th>\n",
       "      <td>4.181208e+07</td>\n",
       "      <td>6.824060e+07</td>\n",
       "      <td>1.131192e+08</td>\n",
       "      <td>1.747200e+08</td>\n",
       "      <td>2953.028211</td>\n",
       "    </tr>\n",
       "    <tr>\n",
       "      <th>min</th>\n",
       "      <td>1.100000e+03</td>\n",
       "      <td>0.000000e+00</td>\n",
       "      <td>0.000000e+00</td>\n",
       "      <td>0.000000e+00</td>\n",
       "      <td>-100.000000</td>\n",
       "    </tr>\n",
       "    <tr>\n",
       "      <th>25%</th>\n",
       "      <td>5.000000e+06</td>\n",
       "      <td>1.429534e+06</td>\n",
       "      <td>0.000000e+00</td>\n",
       "      <td>4.125415e+06</td>\n",
       "      <td>-50.770000</td>\n",
       "    </tr>\n",
       "    <tr>\n",
       "      <th>50%</th>\n",
       "      <td>1.700000e+07</td>\n",
       "      <td>1.722594e+07</td>\n",
       "      <td>5.701766e+06</td>\n",
       "      <td>2.798445e+07</td>\n",
       "      <td>70.830000</td>\n",
       "    </tr>\n",
       "    <tr>\n",
       "      <th>75%</th>\n",
       "      <td>4.000000e+07</td>\n",
       "      <td>5.234866e+07</td>\n",
       "      <td>4.682110e+07</td>\n",
       "      <td>9.764584e+07</td>\n",
       "      <td>275.832500</td>\n",
       "    </tr>\n",
       "    <tr>\n",
       "      <th>max</th>\n",
       "      <td>4.250000e+08</td>\n",
       "      <td>9.366622e+08</td>\n",
       "      <td>2.015838e+09</td>\n",
       "      <td>2.776345e+09</td>\n",
       "      <td>179900.000000</td>\n",
       "    </tr>\n",
       "  </tbody>\n",
       "</table>\n",
       "</div>"
      ],
      "text/plain": [
       "       production_budget  domestic_gross  international_gross  \\\n",
       "count       5.782000e+03    5.782000e+03         5.782000e+03   \n",
       "mean        3.158776e+07    4.187333e+07         4.961413e+07   \n",
       "std         4.181208e+07    6.824060e+07         1.131192e+08   \n",
       "min         1.100000e+03    0.000000e+00         0.000000e+00   \n",
       "25%         5.000000e+06    1.429534e+06         0.000000e+00   \n",
       "50%         1.700000e+07    1.722594e+07         5.701766e+06   \n",
       "75%         4.000000e+07    5.234866e+07         4.682110e+07   \n",
       "max         4.250000e+08    9.366622e+08         2.015838e+09   \n",
       "\n",
       "       worldwide_gross            roi  \n",
       "count     5.782000e+03    5782.000000  \n",
       "mean      9.148746e+07     380.016166  \n",
       "std       1.747200e+08    2953.028211  \n",
       "min       0.000000e+00    -100.000000  \n",
       "25%       4.125415e+06     -50.770000  \n",
       "50%       2.798445e+07      70.830000  \n",
       "75%       9.764584e+07     275.832500  \n",
       "max       2.776345e+09  179900.000000  "
      ]
     },
     "execution_count": 29,
     "metadata": {},
     "output_type": "execute_result"
    }
   ],
   "source": [
    "# Now that the data is uniform and cleaned, we can look at the statistical data\n",
    "budgets_clean.describe()"
   ]
  },
  {
   "cell_type": "code",
   "execution_count": 30,
   "metadata": {
    "scrolled": true
   },
   "outputs": [
    {
     "data": {
      "text/html": [
       "<div>\n",
       "<style scoped>\n",
       "    .dataframe tbody tr th:only-of-type {\n",
       "        vertical-align: middle;\n",
       "    }\n",
       "\n",
       "    .dataframe tbody tr th {\n",
       "        vertical-align: top;\n",
       "    }\n",
       "\n",
       "    .dataframe thead th {\n",
       "        text-align: right;\n",
       "    }\n",
       "</style>\n",
       "<table border=\"1\" class=\"dataframe\">\n",
       "  <thead>\n",
       "    <tr style=\"text-align: right;\">\n",
       "      <th></th>\n",
       "      <th>index</th>\n",
       "      <th>release_date</th>\n",
       "      <th>movie</th>\n",
       "      <th>production_budget</th>\n",
       "      <th>domestic_gross</th>\n",
       "      <th>international_gross</th>\n",
       "      <th>worldwide_gross</th>\n",
       "      <th>roi</th>\n",
       "    </tr>\n",
       "  </thead>\n",
       "  <tbody>\n",
       "    <tr>\n",
       "      <th>0</th>\n",
       "      <td>0</td>\n",
       "      <td>2009-12-18</td>\n",
       "      <td>Avatar</td>\n",
       "      <td>425000000.0</td>\n",
       "      <td>760507625.0</td>\n",
       "      <td>2.015838e+09</td>\n",
       "      <td>2.776345e+09</td>\n",
       "      <td>553.26</td>\n",
       "    </tr>\n",
       "    <tr>\n",
       "      <th>1</th>\n",
       "      <td>1</td>\n",
       "      <td>2011-05-20</td>\n",
       "      <td>Pirates of the Caribbean: On Stranger Tides</td>\n",
       "      <td>410600000.0</td>\n",
       "      <td>241063875.0</td>\n",
       "      <td>8.046000e+08</td>\n",
       "      <td>1.045664e+09</td>\n",
       "      <td>154.67</td>\n",
       "    </tr>\n",
       "    <tr>\n",
       "      <th>2</th>\n",
       "      <td>2</td>\n",
       "      <td>2019-06-07</td>\n",
       "      <td>Dark Phoenix</td>\n",
       "      <td>350000000.0</td>\n",
       "      <td>42762350.0</td>\n",
       "      <td>1.070000e+08</td>\n",
       "      <td>1.497624e+08</td>\n",
       "      <td>-57.21</td>\n",
       "    </tr>\n",
       "    <tr>\n",
       "      <th>3</th>\n",
       "      <td>3</td>\n",
       "      <td>2015-05-01</td>\n",
       "      <td>Avengers: Age of Ultron</td>\n",
       "      <td>330600000.0</td>\n",
       "      <td>459005868.0</td>\n",
       "      <td>9.440081e+08</td>\n",
       "      <td>1.403014e+09</td>\n",
       "      <td>324.38</td>\n",
       "    </tr>\n",
       "    <tr>\n",
       "      <th>4</th>\n",
       "      <td>4</td>\n",
       "      <td>2017-12-15</td>\n",
       "      <td>Star Wars Ep. VIII: The Last Jedi</td>\n",
       "      <td>317000000.0</td>\n",
       "      <td>620181382.0</td>\n",
       "      <td>6.965404e+08</td>\n",
       "      <td>1.316722e+09</td>\n",
       "      <td>315.37</td>\n",
       "    </tr>\n",
       "    <tr>\n",
       "      <th>...</th>\n",
       "      <td>...</td>\n",
       "      <td>...</td>\n",
       "      <td>...</td>\n",
       "      <td>...</td>\n",
       "      <td>...</td>\n",
       "      <td>...</td>\n",
       "      <td>...</td>\n",
       "      <td>...</td>\n",
       "    </tr>\n",
       "    <tr>\n",
       "      <th>5777</th>\n",
       "      <td>5777</td>\n",
       "      <td>2018-12-31</td>\n",
       "      <td>Red 11</td>\n",
       "      <td>7000.0</td>\n",
       "      <td>0.0</td>\n",
       "      <td>0.000000e+00</td>\n",
       "      <td>0.000000e+00</td>\n",
       "      <td>-100.00</td>\n",
       "    </tr>\n",
       "    <tr>\n",
       "      <th>5778</th>\n",
       "      <td>5778</td>\n",
       "      <td>1999-04-02</td>\n",
       "      <td>Following</td>\n",
       "      <td>6000.0</td>\n",
       "      <td>48482.0</td>\n",
       "      <td>1.920130e+05</td>\n",
       "      <td>2.404950e+05</td>\n",
       "      <td>3908.25</td>\n",
       "    </tr>\n",
       "    <tr>\n",
       "      <th>5779</th>\n",
       "      <td>5779</td>\n",
       "      <td>2005-07-13</td>\n",
       "      <td>Return to the Land of Wonders</td>\n",
       "      <td>5000.0</td>\n",
       "      <td>1338.0</td>\n",
       "      <td>0.000000e+00</td>\n",
       "      <td>1.338000e+03</td>\n",
       "      <td>-73.24</td>\n",
       "    </tr>\n",
       "    <tr>\n",
       "      <th>5780</th>\n",
       "      <td>5780</td>\n",
       "      <td>2015-09-29</td>\n",
       "      <td>A Plague So Pleasant</td>\n",
       "      <td>1400.0</td>\n",
       "      <td>0.0</td>\n",
       "      <td>0.000000e+00</td>\n",
       "      <td>0.000000e+00</td>\n",
       "      <td>-100.00</td>\n",
       "    </tr>\n",
       "    <tr>\n",
       "      <th>5781</th>\n",
       "      <td>5781</td>\n",
       "      <td>2005-08-05</td>\n",
       "      <td>My Date With Drew</td>\n",
       "      <td>1100.0</td>\n",
       "      <td>181041.0</td>\n",
       "      <td>0.000000e+00</td>\n",
       "      <td>1.810410e+05</td>\n",
       "      <td>16358.27</td>\n",
       "    </tr>\n",
       "  </tbody>\n",
       "</table>\n",
       "<p>5782 rows × 8 columns</p>\n",
       "</div>"
      ],
      "text/plain": [
       "      index release_date                                        movie  \\\n",
       "0         0   2009-12-18                                       Avatar   \n",
       "1         1   2011-05-20  Pirates of the Caribbean: On Stranger Tides   \n",
       "2         2   2019-06-07                                 Dark Phoenix   \n",
       "3         3   2015-05-01                      Avengers: Age of Ultron   \n",
       "4         4   2017-12-15            Star Wars Ep. VIII: The Last Jedi   \n",
       "...     ...          ...                                          ...   \n",
       "5777   5777   2018-12-31                                       Red 11   \n",
       "5778   5778   1999-04-02                                    Following   \n",
       "5779   5779   2005-07-13                Return to the Land of Wonders   \n",
       "5780   5780   2015-09-29                         A Plague So Pleasant   \n",
       "5781   5781   2005-08-05                            My Date With Drew   \n",
       "\n",
       "      production_budget  domestic_gross  international_gross  worldwide_gross  \\\n",
       "0           425000000.0     760507625.0         2.015838e+09     2.776345e+09   \n",
       "1           410600000.0     241063875.0         8.046000e+08     1.045664e+09   \n",
       "2           350000000.0      42762350.0         1.070000e+08     1.497624e+08   \n",
       "3           330600000.0     459005868.0         9.440081e+08     1.403014e+09   \n",
       "4           317000000.0     620181382.0         6.965404e+08     1.316722e+09   \n",
       "...                 ...             ...                  ...              ...   \n",
       "5777             7000.0             0.0         0.000000e+00     0.000000e+00   \n",
       "5778             6000.0         48482.0         1.920130e+05     2.404950e+05   \n",
       "5779             5000.0          1338.0         0.000000e+00     1.338000e+03   \n",
       "5780             1400.0             0.0         0.000000e+00     0.000000e+00   \n",
       "5781             1100.0        181041.0         0.000000e+00     1.810410e+05   \n",
       "\n",
       "           roi  \n",
       "0       553.26  \n",
       "1       154.67  \n",
       "2       -57.21  \n",
       "3       324.38  \n",
       "4       315.37  \n",
       "...        ...  \n",
       "5777   -100.00  \n",
       "5778   3908.25  \n",
       "5779    -73.24  \n",
       "5780   -100.00  \n",
       "5781  16358.27  \n",
       "\n",
       "[5782 rows x 8 columns]"
      ]
     },
     "execution_count": 30,
     "metadata": {},
     "output_type": "execute_result"
    }
   ],
   "source": [
    "budgets_clean.reset_index()"
   ]
  },
  {
   "cell_type": "markdown",
   "metadata": {},
   "source": [
    "### Final Gross Revenue, Budget, and Genre Dataframe"
   ]
  },
  {
   "cell_type": "code",
   "execution_count": 31,
   "metadata": {},
   "outputs": [],
   "source": [
    "gross_genre_budget = gross_genre.merge(budgets_clean, how='left', left_on='title', right_on='movie')\n",
    "gross_genre_budget = gross_genre_budget.drop_duplicates('title').sort_values('roi', ascending=False)"
   ]
  },
  {
   "cell_type": "code",
   "execution_count": 32,
   "metadata": {},
   "outputs": [],
   "source": [
    "gross_genre_budget.dropna(inplace=True)"
   ]
  },
  {
   "cell_type": "code",
   "execution_count": 33,
   "metadata": {},
   "outputs": [],
   "source": [
    "genre_roi_df = gross_genre_budget.loc[:,['title','main_genre','roi']]"
   ]
  },
  {
   "cell_type": "code",
   "execution_count": 34,
   "metadata": {},
   "outputs": [],
   "source": [
    "genre_roi_df = genre_roi_df.iloc[2:]"
   ]
  },
  {
   "cell_type": "code",
   "execution_count": 35,
   "metadata": {},
   "outputs": [],
   "source": [
    "# ROI, worldwide_gross, and production_budget grouped by genre, sorting values by 'ROI'\n",
    "genre_roi_df = genre_roi_df.groupby('main_genre').mean().sort_values(by='roi', ascending=False)"
   ]
  },
  {
   "cell_type": "code",
   "execution_count": 36,
   "metadata": {},
   "outputs": [],
   "source": [
    "genre_roi_df.reset_index(inplace=True)"
   ]
  },
  {
   "cell_type": "markdown",
   "metadata": {},
   "source": [
    "# Question 1 Analysis:"
   ]
  },
  {
   "cell_type": "markdown",
   "metadata": {},
   "source": [
    "## Average ROI by Genre"
   ]
  },
  {
   "cell_type": "markdown",
   "metadata": {},
   "source": [
    "This figure plots the average Return on Investment (ROI), grouped by Genre. The data suggests that within 2010 - 2018, the top three genres with the highest average ROI are Horror, Mystery, and Drama. "
   ]
  },
  {
   "cell_type": "code",
   "execution_count": 37,
   "metadata": {
    "scrolled": true
   },
   "outputs": [
    {
     "name": "stderr",
     "output_type": "stream",
     "text": [
      "/Users/ChristianTsui/anaconda3/envs/learn-env/lib/python3.8/site-packages/seaborn/_decorators.py:36: FutureWarning: Pass the following variables as keyword args: x, y. From version 0.12, the only valid positional argument will be `data`, and passing other arguments without an explicit keyword will result in an error or misinterpretation.\n",
      "  warnings.warn(\n"
     ]
    },
    {
     "data": {
      "image/png": "[encoded data removed]",
      "text/plain": [
       "<Figure size 648x576 with 1 Axes>"
      ]
     },
     "metadata": {},
     "output_type": "display_data"
    }
   ],
   "source": [
    "sns.set(rc={'figure.figsize':(9,8)})\n",
    "plot = sns.barplot('roi','main_genre' , data = genre_roi_df, order= genre_roi_df['main_genre'], palette='ocean');\n",
    "plot.set_title('Average ROI, by Genre',fontsize=18);\n",
    "plt.xlabel('Avg ROI', fontsize=14);\n",
    "plt.ylabel('Genre', fontsize=14);"
   ]
  },
  {
   "cell_type": "markdown",
   "metadata": {},
   "source": [
    "## Total Gross Revenue by Genre"
   ]
  },
  {
   "cell_type": "markdown",
   "metadata": {},
   "source": [
    "This graph represents Gross Revenue categorized by genre. As you can see, Action, Adventure, and Comedy are the top three highest grossing genres."
   ]
  },
  {
   "cell_type": "code",
   "execution_count": 38,
   "metadata": {},
   "outputs": [],
   "source": [
    "# Displaying relevant data, group by genre, sum total_gross, sort by total gross\n",
    "gross_genre = gross_genre.groupby(['main_genre'])['total_gross'].sum().reset_index().sort_values('total_gross', ascending=False)"
   ]
  },
  {
   "cell_type": "code",
   "execution_count": 39,
   "metadata": {
    "scrolled": true
   },
   "outputs": [
    {
     "name": "stderr",
     "output_type": "stream",
     "text": [
      "/Users/ChristianTsui/anaconda3/envs/learn-env/lib/python3.8/site-packages/seaborn/_decorators.py:36: FutureWarning: Pass the following variables as keyword args: x, y. From version 0.12, the only valid positional argument will be `data`, and passing other arguments without an explicit keyword will result in an error or misinterpretation.\n",
      "  warnings.warn(\n"
     ]
    },
    {
     "data": {
      "image/png": "[encoded data removed]",
      "text/plain": [
       "<Figure size 648x576 with 1 Axes>"
      ]
     },
     "metadata": {},
     "output_type": "display_data"
    }
   ],
   "source": [
    "sns.set(rc={'figure.figsize':(9,8)})\n",
    "plot = sns.barplot('total_gross','main_genre' , data = gross_genre, order= gross_genre['main_genre'], palette='rocket');\n",
    "plot.set_title('Total Gross, By Genre',fontsize=18);\n",
    "plt.xlabel('Total Gross', fontsize=14);\n",
    "plt.ylabel('Genre', fontsize=14);"
   ]
  },
  {
   "cell_type": "markdown",
   "metadata": {},
   "source": [
    "# Question 1 Conclusion:"
   ]
  },
  {
   "cell_type": "markdown",
   "metadata": {},
   "source": [
    "The figures show that the genres with the highest ROI are slightly different than the genres with the highest total gross. The genres with the highest ROI are Horror, Mystery, and Drama. The highest grossing genres are Action, Adventure, and Comedy. Since Microsoft is new to the movie production industry, I would suggest that Microsoft pursue movies with the highest ROI. This is because capital risk would be lower, and potential for return is significantly higher."
   ]
  },
  {
   "cell_type": "markdown",
   "metadata": {},
   "source": [
    "# Question 2: What is the run-time and release date (seasonality) associated with the best performing genres?"
   ]
  },
  {
   "cell_type": "markdown",
   "metadata": {},
   "source": [
    "In this question, I am looking at the run-time and release date (seasonality) for the movies with the highest ROI (Return-On-Investment). If the most successful genres have a certain run-time, then Microsoft should make movies within that time period. Additionally, if the most successful genres tend to release movies during a specific time of the year, then Microsoft should consider the seasonality as well."
   ]
  },
  {
   "cell_type": "markdown",
   "metadata": {},
   "source": [
    "## Method:"
   ]
  },
  {
   "cell_type": "markdown",
   "metadata": {},
   "source": [
    "### Constructing Runtime and Genre Dataframe"
   ]
  },
  {
   "cell_type": "code",
   "execution_count": 40,
   "metadata": {},
   "outputs": [],
   "source": [
    "gross_genre_budget = gross_genre_budget.iloc[2:]"
   ]
  },
  {
   "cell_type": "code",
   "execution_count": 41,
   "metadata": {},
   "outputs": [],
   "source": [
    "runtime_horror_df = gross_genre_budget.loc[gross_genre_budget['main_genre']=='Horror']"
   ]
  },
  {
   "cell_type": "code",
   "execution_count": 42,
   "metadata": {},
   "outputs": [
    {
     "data": {
      "text/html": [
       "<div>\n",
       "<style scoped>\n",
       "    .dataframe tbody tr th:only-of-type {\n",
       "        vertical-align: middle;\n",
       "    }\n",
       "\n",
       "    .dataframe tbody tr th {\n",
       "        vertical-align: top;\n",
       "    }\n",
       "\n",
       "    .dataframe thead th {\n",
       "        text-align: right;\n",
       "    }\n",
       "</style>\n",
       "<table border=\"1\" class=\"dataframe\">\n",
       "  <thead>\n",
       "    <tr style=\"text-align: right;\">\n",
       "      <th></th>\n",
       "      <th>movie_id</th>\n",
       "      <th>primary_title</th>\n",
       "      <th>original_title</th>\n",
       "      <th>start_year</th>\n",
       "      <th>runtime_minutes</th>\n",
       "      <th>genres</th>\n",
       "      <th>main_genre</th>\n",
       "    </tr>\n",
       "  </thead>\n",
       "  <tbody>\n",
       "    <tr>\n",
       "      <th>0</th>\n",
       "      <td>tt0063540</td>\n",
       "      <td>Sunghursh</td>\n",
       "      <td>Sunghursh</td>\n",
       "      <td>2013</td>\n",
       "      <td>175.0</td>\n",
       "      <td>[Action, Crime, Drama]</td>\n",
       "      <td>Action</td>\n",
       "    </tr>\n",
       "    <tr>\n",
       "      <th>1</th>\n",
       "      <td>tt0066787</td>\n",
       "      <td>One Day Before the Rainy Season</td>\n",
       "      <td>Ashad Ka Ek Din</td>\n",
       "      <td>2019</td>\n",
       "      <td>114.0</td>\n",
       "      <td>[Biography, Drama]</td>\n",
       "      <td>Biography</td>\n",
       "    </tr>\n",
       "    <tr>\n",
       "      <th>2</th>\n",
       "      <td>tt0069049</td>\n",
       "      <td>The Other Side of the Wind</td>\n",
       "      <td>The Other Side of the Wind</td>\n",
       "      <td>2018</td>\n",
       "      <td>122.0</td>\n",
       "      <td>[Drama]</td>\n",
       "      <td>Drama</td>\n",
       "    </tr>\n",
       "  </tbody>\n",
       "</table>\n",
       "</div>"
      ],
      "text/plain": [
       "    movie_id                    primary_title              original_title  \\\n",
       "0  tt0063540                        Sunghursh                   Sunghursh   \n",
       "1  tt0066787  One Day Before the Rainy Season             Ashad Ka Ek Din   \n",
       "2  tt0069049       The Other Side of the Wind  The Other Side of the Wind   \n",
       "\n",
       "   start_year  runtime_minutes                  genres main_genre  \n",
       "0        2013            175.0  [Action, Crime, Drama]     Action  \n",
       "1        2019            114.0      [Biography, Drama]  Biography  \n",
       "2        2018            122.0                 [Drama]      Drama  "
      ]
     },
     "execution_count": 42,
     "metadata": {},
     "output_type": "execute_result"
    }
   ],
   "source": [
    "imdb_basics.head(3)"
   ]
  },
  {
   "cell_type": "code",
   "execution_count": 43,
   "metadata": {},
   "outputs": [],
   "source": [
    "imdb_drop = imdb_basics.loc[:,['primary_title','runtime_minutes']]"
   ]
  },
  {
   "cell_type": "code",
   "execution_count": 44,
   "metadata": {},
   "outputs": [],
   "source": [
    "runtime_roi = gross_genre_budget.merge(imdb_drop, how='left', on='primary_title')"
   ]
  },
  {
   "cell_type": "code",
   "execution_count": 45,
   "metadata": {},
   "outputs": [],
   "source": [
    "runtime_horror_df = runtime_roi.loc[runtime_roi['main_genre']=='Horror']"
   ]
  },
  {
   "cell_type": "code",
   "execution_count": 46,
   "metadata": {},
   "outputs": [
    {
     "data": {
      "text/html": [
       "<div>\n",
       "<style scoped>\n",
       "    .dataframe tbody tr th:only-of-type {\n",
       "        vertical-align: middle;\n",
       "    }\n",
       "\n",
       "    .dataframe tbody tr th {\n",
       "        vertical-align: top;\n",
       "    }\n",
       "\n",
       "    .dataframe thead th {\n",
       "        text-align: right;\n",
       "    }\n",
       "</style>\n",
       "<table border=\"1\" class=\"dataframe\">\n",
       "  <thead>\n",
       "    <tr style=\"text-align: right;\">\n",
       "      <th></th>\n",
       "      <th>title</th>\n",
       "      <th>main_genre</th>\n",
       "      <th>release_date</th>\n",
       "      <th>roi</th>\n",
       "      <th>runtime_minutes</th>\n",
       "    </tr>\n",
       "  </thead>\n",
       "  <tbody>\n",
       "    <tr>\n",
       "      <th>0</th>\n",
       "      <td>Insidious</td>\n",
       "      <td>Horror</td>\n",
       "      <td>2011-04-01</td>\n",
       "      <td>6558.06</td>\n",
       "      <td>103.0</td>\n",
       "    </tr>\n",
       "    <tr>\n",
       "      <th>1</th>\n",
       "      <td>Unfriended</td>\n",
       "      <td>Horror</td>\n",
       "      <td>2015-04-17</td>\n",
       "      <td>6336.42</td>\n",
       "      <td>83.0</td>\n",
       "    </tr>\n",
       "    <tr>\n",
       "      <th>2</th>\n",
       "      <td>Paranormal Activity 2</td>\n",
       "      <td>Horror</td>\n",
       "      <td>2010-10-20</td>\n",
       "      <td>5817.07</td>\n",
       "      <td>91.0</td>\n",
       "    </tr>\n",
       "    <tr>\n",
       "      <th>8</th>\n",
       "      <td>Get Out</td>\n",
       "      <td>Horror</td>\n",
       "      <td>2017-02-24</td>\n",
       "      <td>5007.36</td>\n",
       "      <td>104.0</td>\n",
       "    </tr>\n",
       "    <tr>\n",
       "      <th>9</th>\n",
       "      <td>Chernobyl Diaries</td>\n",
       "      <td>Horror</td>\n",
       "      <td>2012-05-25</td>\n",
       "      <td>4141.17</td>\n",
       "      <td>86.0</td>\n",
       "    </tr>\n",
       "    <tr>\n",
       "      <th>...</th>\n",
       "      <td>...</td>\n",
       "      <td>...</td>\n",
       "      <td>...</td>\n",
       "      <td>...</td>\n",
       "      <td>...</td>\n",
       "    </tr>\n",
       "    <tr>\n",
       "      <th>1101</th>\n",
       "      <td>Shark Night 3D</td>\n",
       "      <td>Horror</td>\n",
       "      <td>2011-09-02</td>\n",
       "      <td>-24.49</td>\n",
       "      <td>90.0</td>\n",
       "    </tr>\n",
       "    <tr>\n",
       "      <th>1109</th>\n",
       "      <td>I Spit on Your Grave</td>\n",
       "      <td>Horror</td>\n",
       "      <td>2010-10-08</td>\n",
       "      <td>-26.94</td>\n",
       "      <td>108.0</td>\n",
       "    </tr>\n",
       "    <tr>\n",
       "      <th>1118</th>\n",
       "      <td>My Soul to Take</td>\n",
       "      <td>Horror</td>\n",
       "      <td>2010-10-08</td>\n",
       "      <td>-33.09</td>\n",
       "      <td>107.0</td>\n",
       "    </tr>\n",
       "    <tr>\n",
       "      <th>1124</th>\n",
       "      <td>The Apparition</td>\n",
       "      <td>Horror</td>\n",
       "      <td>2012-08-24</td>\n",
       "      <td>-37.43</td>\n",
       "      <td>83.0</td>\n",
       "    </tr>\n",
       "    <tr>\n",
       "      <th>1125</th>\n",
       "      <td>The Apparition</td>\n",
       "      <td>Horror</td>\n",
       "      <td>2012-08-24</td>\n",
       "      <td>-37.43</td>\n",
       "      <td>144.0</td>\n",
       "    </tr>\n",
       "  </tbody>\n",
       "</table>\n",
       "<p>65 rows × 5 columns</p>\n",
       "</div>"
      ],
      "text/plain": [
       "                      title main_genre release_date      roi  runtime_minutes\n",
       "0                 Insidious     Horror   2011-04-01  6558.06            103.0\n",
       "1                Unfriended     Horror   2015-04-17  6336.42             83.0\n",
       "2     Paranormal Activity 2     Horror   2010-10-20  5817.07             91.0\n",
       "8                   Get Out     Horror   2017-02-24  5007.36            104.0\n",
       "9         Chernobyl Diaries     Horror   2012-05-25  4141.17             86.0\n",
       "...                     ...        ...          ...      ...              ...\n",
       "1101         Shark Night 3D     Horror   2011-09-02   -24.49             90.0\n",
       "1109   I Spit on Your Grave     Horror   2010-10-08   -26.94            108.0\n",
       "1118        My Soul to Take     Horror   2010-10-08   -33.09            107.0\n",
       "1124         The Apparition     Horror   2012-08-24   -37.43             83.0\n",
       "1125         The Apparition     Horror   2012-08-24   -37.43            144.0\n",
       "\n",
       "[65 rows x 5 columns]"
      ]
     },
     "execution_count": 46,
     "metadata": {},
     "output_type": "execute_result"
    }
   ],
   "source": [
    "runtime_horror_df.drop(columns = ['total_gross','year','primary_title','movie','production_budget','domestic_gross','international_gross','worldwide_gross'])"
   ]
  },
  {
   "cell_type": "code",
   "execution_count": 47,
   "metadata": {},
   "outputs": [
    {
     "data": {
      "text/html": [
       "<div>\n",
       "<style scoped>\n",
       "    .dataframe tbody tr th:only-of-type {\n",
       "        vertical-align: middle;\n",
       "    }\n",
       "\n",
       "    .dataframe tbody tr th {\n",
       "        vertical-align: top;\n",
       "    }\n",
       "\n",
       "    .dataframe thead th {\n",
       "        text-align: right;\n",
       "    }\n",
       "</style>\n",
       "<table border=\"1\" class=\"dataframe\">\n",
       "  <thead>\n",
       "    <tr style=\"text-align: right;\">\n",
       "      <th></th>\n",
       "      <th>total_gross</th>\n",
       "      <th>year</th>\n",
       "      <th>production_budget</th>\n",
       "      <th>domestic_gross</th>\n",
       "      <th>international_gross</th>\n",
       "      <th>worldwide_gross</th>\n",
       "      <th>roi</th>\n",
       "      <th>runtime_minutes</th>\n",
       "    </tr>\n",
       "  </thead>\n",
       "  <tbody>\n",
       "    <tr>\n",
       "      <th>count</th>\n",
       "      <td>6.500000e+01</td>\n",
       "      <td>65.000000</td>\n",
       "      <td>6.500000e+01</td>\n",
       "      <td>6.500000e+01</td>\n",
       "      <td>6.500000e+01</td>\n",
       "      <td>6.500000e+01</td>\n",
       "      <td>65.000000</td>\n",
       "      <td>65.000000</td>\n",
       "    </tr>\n",
       "    <tr>\n",
       "      <th>mean</th>\n",
       "      <td>9.617036e+07</td>\n",
       "      <td>2014.353846</td>\n",
       "      <td>1.381923e+07</td>\n",
       "      <td>4.615232e+07</td>\n",
       "      <td>4.877767e+07</td>\n",
       "      <td>9.492998e+07</td>\n",
       "      <td>1327.055538</td>\n",
       "      <td>96.276923</td>\n",
       "    </tr>\n",
       "    <tr>\n",
       "      <th>std</th>\n",
       "      <td>1.054072e+08</td>\n",
       "      <td>2.612654</td>\n",
       "      <td>1.510675e+07</td>\n",
       "      <td>4.937473e+07</td>\n",
       "      <td>6.032283e+07</td>\n",
       "      <td>1.057292e+08</td>\n",
       "      <td>1647.690360</td>\n",
       "      <td>19.730614</td>\n",
       "    </tr>\n",
       "    <tr>\n",
       "      <th>min</th>\n",
       "      <td>5.731000e+05</td>\n",
       "      <td>2010.000000</td>\n",
       "      <td>1.000000e+06</td>\n",
       "      <td>9.305100e+04</td>\n",
       "      <td>0.000000e+00</td>\n",
       "      <td>1.278471e+06</td>\n",
       "      <td>-37.430000</td>\n",
       "      <td>34.000000</td>\n",
       "    </tr>\n",
       "    <tr>\n",
       "      <th>25%</th>\n",
       "      <td>3.840000e+07</td>\n",
       "      <td>2012.000000</td>\n",
       "      <td>5.000000e+06</td>\n",
       "      <td>1.811964e+07</td>\n",
       "      <td>1.415497e+07</td>\n",
       "      <td>3.835931e+07</td>\n",
       "      <td>197.080000</td>\n",
       "      <td>86.000000</td>\n",
       "    </tr>\n",
       "    <tr>\n",
       "      <th>50%</th>\n",
       "      <td>6.270000e+07</td>\n",
       "      <td>2015.000000</td>\n",
       "      <td>1.000000e+07</td>\n",
       "      <td>3.367966e+07</td>\n",
       "      <td>2.794921e+07</td>\n",
       "      <td>6.335411e+07</td>\n",
       "      <td>492.320000</td>\n",
       "      <td>92.000000</td>\n",
       "    </tr>\n",
       "    <tr>\n",
       "      <th>75%</th>\n",
       "      <td>9.720000e+07</td>\n",
       "      <td>2016.000000</td>\n",
       "      <td>1.900000e+07</td>\n",
       "      <td>5.085601e+07</td>\n",
       "      <td>5.844248e+07</td>\n",
       "      <td>9.987089e+07</td>\n",
       "      <td>2400.210000</td>\n",
       "      <td>103.000000</td>\n",
       "    </tr>\n",
       "    <tr>\n",
       "      <th>max</th>\n",
       "      <td>7.004000e+08</td>\n",
       "      <td>2018.000000</td>\n",
       "      <td>9.700000e+07</td>\n",
       "      <td>3.274817e+08</td>\n",
       "      <td>3.699762e+08</td>\n",
       "      <td>6.974580e+08</td>\n",
       "      <td>6558.060000</td>\n",
       "      <td>168.000000</td>\n",
       "    </tr>\n",
       "  </tbody>\n",
       "</table>\n",
       "</div>"
      ],
      "text/plain": [
       "        total_gross         year  production_budget  domestic_gross  \\\n",
       "count  6.500000e+01    65.000000       6.500000e+01    6.500000e+01   \n",
       "mean   9.617036e+07  2014.353846       1.381923e+07    4.615232e+07   \n",
       "std    1.054072e+08     2.612654       1.510675e+07    4.937473e+07   \n",
       "min    5.731000e+05  2010.000000       1.000000e+06    9.305100e+04   \n",
       "25%    3.840000e+07  2012.000000       5.000000e+06    1.811964e+07   \n",
       "50%    6.270000e+07  2015.000000       1.000000e+07    3.367966e+07   \n",
       "75%    9.720000e+07  2016.000000       1.900000e+07    5.085601e+07   \n",
       "max    7.004000e+08  2018.000000       9.700000e+07    3.274817e+08   \n",
       "\n",
       "       international_gross  worldwide_gross          roi  runtime_minutes  \n",
       "count         6.500000e+01     6.500000e+01    65.000000        65.000000  \n",
       "mean          4.877767e+07     9.492998e+07  1327.055538        96.276923  \n",
       "std           6.032283e+07     1.057292e+08  1647.690360        19.730614  \n",
       "min           0.000000e+00     1.278471e+06   -37.430000        34.000000  \n",
       "25%           1.415497e+07     3.835931e+07   197.080000        86.000000  \n",
       "50%           2.794921e+07     6.335411e+07   492.320000        92.000000  \n",
       "75%           5.844248e+07     9.987089e+07  2400.210000       103.000000  \n",
       "max           3.699762e+08     6.974580e+08  6558.060000       168.000000  "
      ]
     },
     "execution_count": 47,
     "metadata": {},
     "output_type": "execute_result"
    }
   ],
   "source": [
    "runtime_horror_df.describe()"
   ]
  },
  {
   "cell_type": "markdown",
   "metadata": {},
   "source": [
    "### Inspecting Horror Dataframe for Seasonality Data"
   ]
  },
  {
   "cell_type": "code",
   "execution_count": 48,
   "metadata": {},
   "outputs": [
    {
     "name": "stdout",
     "output_type": "stream",
     "text": [
      "<class 'pandas.core.frame.DataFrame'>\n",
      "Int64Index: 65 entries, 0 to 1125\n",
      "Data columns (total 13 columns):\n",
      " #   Column               Non-Null Count  Dtype         \n",
      "---  ------               --------------  -----         \n",
      " 0   title                65 non-null     object        \n",
      " 1   total_gross          65 non-null     float64       \n",
      " 2   year                 65 non-null     int64         \n",
      " 3   primary_title        65 non-null     object        \n",
      " 4   main_genre           65 non-null     object        \n",
      " 5   release_date         65 non-null     datetime64[ns]\n",
      " 6   movie                65 non-null     object        \n",
      " 7   production_budget    65 non-null     float64       \n",
      " 8   domestic_gross       65 non-null     float64       \n",
      " 9   international_gross  65 non-null     float64       \n",
      " 10  worldwide_gross      65 non-null     float64       \n",
      " 11  roi                  65 non-null     float64       \n",
      " 12  runtime_minutes      65 non-null     float64       \n",
      "dtypes: datetime64[ns](1), float64(7), int64(1), object(4)\n",
      "memory usage: 7.1+ KB\n"
     ]
    }
   ],
   "source": [
    "# Release date is datatime\n",
    "runtime_horror_df.info()"
   ]
  },
  {
   "cell_type": "markdown",
   "metadata": {},
   "source": [
    "### Preparing Data for Insights"
   ]
  },
  {
   "cell_type": "code",
   "execution_count": 49,
   "metadata": {},
   "outputs": [
    {
     "name": "stderr",
     "output_type": "stream",
     "text": [
      "<ipython-input-49-8d961e4b9c7c>:2: SettingWithCopyWarning: \n",
      "A value is trying to be set on a copy of a slice from a DataFrame.\n",
      "Try using .loc[row_indexer,col_indexer] = value instead\n",
      "\n",
      "See the caveats in the documentation: https://pandas.pydata.org/pandas-docs/stable/user_guide/indexing.html#returning-a-view-versus-a-copy\n",
      "  runtime_horror_df['month'] = runtime_horror_df['release_date'].dt.month\n"
     ]
    }
   ],
   "source": [
    "# Adding a new column for 'month'\n",
    "runtime_horror_df['month'] = runtime_horror_df['release_date'].dt.month"
   ]
  },
  {
   "cell_type": "code",
   "execution_count": 50,
   "metadata": {},
   "outputs": [
    {
     "name": "stdout",
     "output_type": "stream",
     "text": [
      "<class 'pandas.core.frame.DataFrame'>\n",
      "Int64Index: 65 entries, 0 to 1125\n",
      "Data columns (total 14 columns):\n",
      " #   Column               Non-Null Count  Dtype         \n",
      "---  ------               --------------  -----         \n",
      " 0   title                65 non-null     object        \n",
      " 1   total_gross          65 non-null     float64       \n",
      " 2   year                 65 non-null     int64         \n",
      " 3   primary_title        65 non-null     object        \n",
      " 4   main_genre           65 non-null     object        \n",
      " 5   release_date         65 non-null     datetime64[ns]\n",
      " 6   movie                65 non-null     object        \n",
      " 7   production_budget    65 non-null     float64       \n",
      " 8   domestic_gross       65 non-null     float64       \n",
      " 9   international_gross  65 non-null     float64       \n",
      " 10  worldwide_gross      65 non-null     float64       \n",
      " 11  roi                  65 non-null     float64       \n",
      " 12  runtime_minutes      65 non-null     float64       \n",
      " 13  month                65 non-null     int64         \n",
      "dtypes: datetime64[ns](1), float64(7), int64(2), object(4)\n",
      "memory usage: 7.6+ KB\n"
     ]
    }
   ],
   "source": [
    "runtime_horror_df.info()"
   ]
  },
  {
   "cell_type": "code",
   "execution_count": 51,
   "metadata": {},
   "outputs": [
    {
     "name": "stderr",
     "output_type": "stream",
     "text": [
      "/Users/ChristianTsui/anaconda3/envs/learn-env/lib/python3.8/site-packages/pandas/core/indexing.py:1596: SettingWithCopyWarning: \n",
      "A value is trying to be set on a copy of a slice from a DataFrame.\n",
      "Try using .loc[row_indexer,col_indexer] = value instead\n",
      "\n",
      "See the caveats in the documentation: https://pandas.pydata.org/pandas-docs/stable/user_guide/indexing.html#returning-a-view-versus-a-copy\n",
      "  self.obj[key] = _infer_fill_value(value)\n",
      "/Users/ChristianTsui/anaconda3/envs/learn-env/lib/python3.8/site-packages/pandas/core/indexing.py:1765: SettingWithCopyWarning: \n",
      "A value is trying to be set on a copy of a slice from a DataFrame.\n",
      "Try using .loc[row_indexer,col_indexer] = value instead\n",
      "\n",
      "See the caveats in the documentation: https://pandas.pydata.org/pandas-docs/stable/user_guide/indexing.html#returning-a-view-versus-a-copy\n",
      "  isetter(loc, value)\n",
      "/Users/ChristianTsui/anaconda3/envs/learn-env/lib/python3.8/site-packages/pandas/core/indexing.py:1765: SettingWithCopyWarning: \n",
      "A value is trying to be set on a copy of a slice from a DataFrame.\n",
      "Try using .loc[row_indexer,col_indexer] = value instead\n",
      "\n",
      "See the caveats in the documentation: https://pandas.pydata.org/pandas-docs/stable/user_guide/indexing.html#returning-a-view-versus-a-copy\n",
      "  isetter(loc, value)\n",
      "/Users/ChristianTsui/anaconda3/envs/learn-env/lib/python3.8/site-packages/pandas/core/indexing.py:1765: SettingWithCopyWarning: \n",
      "A value is trying to be set on a copy of a slice from a DataFrame.\n",
      "Try using .loc[row_indexer,col_indexer] = value instead\n",
      "\n",
      "See the caveats in the documentation: https://pandas.pydata.org/pandas-docs/stable/user_guide/indexing.html#returning-a-view-versus-a-copy\n",
      "  isetter(loc, value)\n",
      "/Users/ChristianTsui/anaconda3/envs/learn-env/lib/python3.8/site-packages/pandas/core/indexing.py:1765: SettingWithCopyWarning: \n",
      "A value is trying to be set on a copy of a slice from a DataFrame.\n",
      "Try using .loc[row_indexer,col_indexer] = value instead\n",
      "\n",
      "See the caveats in the documentation: https://pandas.pydata.org/pandas-docs/stable/user_guide/indexing.html#returning-a-view-versus-a-copy\n",
      "  isetter(loc, value)\n",
      "/Users/ChristianTsui/anaconda3/envs/learn-env/lib/python3.8/site-packages/pandas/core/indexing.py:1765: SettingWithCopyWarning: \n",
      "A value is trying to be set on a copy of a slice from a DataFrame.\n",
      "Try using .loc[row_indexer,col_indexer] = value instead\n",
      "\n",
      "See the caveats in the documentation: https://pandas.pydata.org/pandas-docs/stable/user_guide/indexing.html#returning-a-view-versus-a-copy\n",
      "  isetter(loc, value)\n"
     ]
    }
   ],
   "source": [
    "# If the month is between 9 and 11 it is 'fall'\n",
    "runtime_horror_df.loc[(runtime_horror_df['month'] <= 11) & (runtime_horror_df['month'] >= 9), 'season'] = 'fall'\n",
    "\n",
    "# If the month is between 12 and 2 it is 'winter'\n",
    "runtime_horror_df.loc[(runtime_horror_df['month'] == 12), 'season'] = 'winter'\n",
    "runtime_horror_df.loc[runtime_horror_df['month'] <=2, 'season'] = 'winter'\n",
    "\n",
    "# If the month is between 3 and 5 it is 'spring'\n",
    "runtime_horror_df.loc[(runtime_horror_df['month'] >= 3) & (runtime_horror_df['month'] <= 5), 'season'] = 'spring'\n",
    "\n",
    "# If the month is between 6 and 8 it is 'summer'\n",
    "runtime_horror_df.loc[(runtime_horror_df['month'] <= 8) & (runtime_horror_df['month'] >= 6), 'season'] = 'summer'"
   ]
  },
  {
   "cell_type": "code",
   "execution_count": 52,
   "metadata": {},
   "outputs": [
    {
     "data": {
      "text/html": [
       "<div>\n",
       "<style scoped>\n",
       "    .dataframe tbody tr th:only-of-type {\n",
       "        vertical-align: middle;\n",
       "    }\n",
       "\n",
       "    .dataframe tbody tr th {\n",
       "        vertical-align: top;\n",
       "    }\n",
       "\n",
       "    .dataframe thead th {\n",
       "        text-align: right;\n",
       "    }\n",
       "</style>\n",
       "<table border=\"1\" class=\"dataframe\">\n",
       "  <thead>\n",
       "    <tr style=\"text-align: right;\">\n",
       "      <th></th>\n",
       "      <th>title</th>\n",
       "      <th>total_gross</th>\n",
       "      <th>year</th>\n",
       "      <th>primary_title</th>\n",
       "      <th>main_genre</th>\n",
       "      <th>release_date</th>\n",
       "      <th>movie</th>\n",
       "      <th>production_budget</th>\n",
       "      <th>domestic_gross</th>\n",
       "      <th>international_gross</th>\n",
       "      <th>worldwide_gross</th>\n",
       "      <th>roi</th>\n",
       "      <th>runtime_minutes</th>\n",
       "      <th>month</th>\n",
       "      <th>season</th>\n",
       "    </tr>\n",
       "  </thead>\n",
       "  <tbody>\n",
       "    <tr>\n",
       "      <th>0</th>\n",
       "      <td>Insidious</td>\n",
       "      <td>97000000.0</td>\n",
       "      <td>2011</td>\n",
       "      <td>Insidious</td>\n",
       "      <td>Horror</td>\n",
       "      <td>2011-04-01</td>\n",
       "      <td>Insidious</td>\n",
       "      <td>1500000.0</td>\n",
       "      <td>54009150.0</td>\n",
       "      <td>45861736.0</td>\n",
       "      <td>99870886.0</td>\n",
       "      <td>6558.06</td>\n",
       "      <td>103.0</td>\n",
       "      <td>4</td>\n",
       "      <td>spring</td>\n",
       "    </tr>\n",
       "    <tr>\n",
       "      <th>1</th>\n",
       "      <td>Unfriended</td>\n",
       "      <td>64100000.0</td>\n",
       "      <td>2015</td>\n",
       "      <td>Unfriended</td>\n",
       "      <td>Horror</td>\n",
       "      <td>2015-04-17</td>\n",
       "      <td>Unfriended</td>\n",
       "      <td>1000000.0</td>\n",
       "      <td>32789645.0</td>\n",
       "      <td>31574553.0</td>\n",
       "      <td>64364198.0</td>\n",
       "      <td>6336.42</td>\n",
       "      <td>83.0</td>\n",
       "      <td>4</td>\n",
       "      <td>spring</td>\n",
       "    </tr>\n",
       "    <tr>\n",
       "      <th>2</th>\n",
       "      <td>Paranormal Activity 2</td>\n",
       "      <td>177600000.0</td>\n",
       "      <td>2010</td>\n",
       "      <td>Paranormal Activity 2</td>\n",
       "      <td>Horror</td>\n",
       "      <td>2010-10-20</td>\n",
       "      <td>Paranormal Activity 2</td>\n",
       "      <td>3000000.0</td>\n",
       "      <td>84752907.0</td>\n",
       "      <td>92759125.0</td>\n",
       "      <td>177512032.0</td>\n",
       "      <td>5817.07</td>\n",
       "      <td>91.0</td>\n",
       "      <td>10</td>\n",
       "      <td>fall</td>\n",
       "    </tr>\n",
       "    <tr>\n",
       "      <th>8</th>\n",
       "      <td>Get Out</td>\n",
       "      <td>255400000.0</td>\n",
       "      <td>2017</td>\n",
       "      <td>Get Out</td>\n",
       "      <td>Horror</td>\n",
       "      <td>2017-02-24</td>\n",
       "      <td>Get Out</td>\n",
       "      <td>5000000.0</td>\n",
       "      <td>176040665.0</td>\n",
       "      <td>79327286.0</td>\n",
       "      <td>255367951.0</td>\n",
       "      <td>5007.36</td>\n",
       "      <td>104.0</td>\n",
       "      <td>2</td>\n",
       "      <td>winter</td>\n",
       "    </tr>\n",
       "    <tr>\n",
       "      <th>9</th>\n",
       "      <td>Chernobyl Diaries</td>\n",
       "      <td>37100000.0</td>\n",
       "      <td>2012</td>\n",
       "      <td>Chernobyl Diaries</td>\n",
       "      <td>Horror</td>\n",
       "      <td>2012-05-25</td>\n",
       "      <td>Chernobyl Diaries</td>\n",
       "      <td>1000000.0</td>\n",
       "      <td>18119640.0</td>\n",
       "      <td>24292081.0</td>\n",
       "      <td>42411721.0</td>\n",
       "      <td>4141.17</td>\n",
       "      <td>86.0</td>\n",
       "      <td>5</td>\n",
       "      <td>spring</td>\n",
       "    </tr>\n",
       "  </tbody>\n",
       "</table>\n",
       "</div>"
      ],
      "text/plain": [
       "                   title  total_gross  year          primary_title main_genre  \\\n",
       "0              Insidious   97000000.0  2011              Insidious     Horror   \n",
       "1             Unfriended   64100000.0  2015             Unfriended     Horror   \n",
       "2  Paranormal Activity 2  177600000.0  2010  Paranormal Activity 2     Horror   \n",
       "8                Get Out  255400000.0  2017                Get Out     Horror   \n",
       "9      Chernobyl Diaries   37100000.0  2012      Chernobyl Diaries     Horror   \n",
       "\n",
       "  release_date                  movie  production_budget  domestic_gross  \\\n",
       "0   2011-04-01              Insidious          1500000.0      54009150.0   \n",
       "1   2015-04-17             Unfriended          1000000.0      32789645.0   \n",
       "2   2010-10-20  Paranormal Activity 2          3000000.0      84752907.0   \n",
       "8   2017-02-24                Get Out          5000000.0     176040665.0   \n",
       "9   2012-05-25      Chernobyl Diaries          1000000.0      18119640.0   \n",
       "\n",
       "   international_gross  worldwide_gross      roi  runtime_minutes  month  \\\n",
       "0           45861736.0       99870886.0  6558.06            103.0      4   \n",
       "1           31574553.0       64364198.0  6336.42             83.0      4   \n",
       "2           92759125.0      177512032.0  5817.07             91.0     10   \n",
       "8           79327286.0      255367951.0  5007.36            104.0      2   \n",
       "9           24292081.0       42411721.0  4141.17             86.0      5   \n",
       "\n",
       "   season  \n",
       "0  spring  \n",
       "1  spring  \n",
       "2    fall  \n",
       "8  winter  \n",
       "9  spring  "
      ]
     },
     "execution_count": 52,
     "metadata": {},
     "output_type": "execute_result"
    }
   ],
   "source": [
    "# Checking results\n",
    "runtime_horror_df.sort_values(by='roi', ascending=False).head()"
   ]
  },
  {
   "cell_type": "code",
   "execution_count": 53,
   "metadata": {},
   "outputs": [
    {
     "data": {
      "text/plain": [
       "season\n",
       "fall      21\n",
       "spring    19\n",
       "winter    15\n",
       "summer    10\n",
       "dtype: int64"
      ]
     },
     "execution_count": 53,
     "metadata": {},
     "output_type": "execute_result"
    }
   ],
   "source": [
    "runtime_horror_df.value_counts('season')"
   ]
  },
  {
   "cell_type": "markdown",
   "metadata": {},
   "source": [
    "### Calculating Horror Average ROI by Season"
   ]
  },
  {
   "cell_type": "code",
   "execution_count": 54,
   "metadata": {},
   "outputs": [],
   "source": [
    "roi_by_season = runtime_horror_df.groupby(['season'])['roi'].mean()"
   ]
  },
  {
   "cell_type": "code",
   "execution_count": 55,
   "metadata": {},
   "outputs": [
    {
     "data": {
      "text/plain": [
       "season\n",
       "fall      1422.923333\n",
       "spring    1789.762105\n",
       "summer     834.863000\n",
       "winter     934.874000\n",
       "Name: roi, dtype: float64"
      ]
     },
     "execution_count": 55,
     "metadata": {},
     "output_type": "execute_result"
    }
   ],
   "source": [
    "roi_by_season"
   ]
  },
  {
   "cell_type": "markdown",
   "metadata": {},
   "source": [
    "# Question 2 Analysis:"
   ]
  },
  {
   "cell_type": "markdown",
   "metadata": {},
   "source": [
    "## Horror: Runtime vs. ROI\n",
    "This figure plots runtime against return on investment. There is a slight negative correlation, indicating that Horror movies with a higher ROI tend to have lower runtime."
   ]
  },
  {
   "cell_type": "code",
   "execution_count": 56,
   "metadata": {},
   "outputs": [
    {
     "name": "stderr",
     "output_type": "stream",
     "text": [
      "/Users/ChristianTsui/anaconda3/envs/learn-env/lib/python3.8/site-packages/seaborn/_decorators.py:36: FutureWarning: Pass the following variables as keyword args: x, y. From version 0.12, the only valid positional argument will be `data`, and passing other arguments without an explicit keyword will result in an error or misinterpretation.\n",
      "  warnings.warn(\n"
     ]
    },
    {
     "data": {
      "image/png": "[encoded data removed]",
      "text/plain": [
       "<Figure size 576x576 with 1 Axes>"
      ]
     },
     "metadata": {},
     "output_type": "display_data"
    }
   ],
   "source": [
    "plot =sns.lmplot('roi','runtime_minutes',data = runtime_horror_df, height=8, truncate=False, fit_reg=True);\n",
    "plt.title('Horror: Runtime vs. ROI',fontsize=18);\n",
    "plt.xlabel('ROI', fontsize=14);\n",
    "plt.ylabel('Runtime', fontsize=14);"
   ]
  },
  {
   "cell_type": "markdown",
   "metadata": {},
   "source": [
    "## Horror: Avg. ROI by Season\n",
    "This figure shows the ROI categorized by season for Horror movies. Counterintuitively, the season with the highest ROI for Horror movies is Spring then Fall. "
   ]
  },
  {
   "cell_type": "code",
   "execution_count": 57,
   "metadata": {},
   "outputs": [
    {
     "data": {
      "image/png": "[encoded data removed]",
      "text/plain": [
       "<Figure size 720x360 with 1 Axes>"
      ]
     },
     "metadata": {},
     "output_type": "display_data"
    }
   ],
   "source": [
    "# Create bar plot using MatPltLib\n",
    "y = roi_by_season\n",
    "x = y.index\n",
    "\n",
    "figure, ax = plt.subplots(figsize = (10,5))\n",
    "\n",
    "# Set Labels\n",
    "ax.set_title('Horror: Average ROI by Season', fontsize=18)\n",
    "ax.set_xlabel('Season', fontsize=18)\n",
    "ax.set_ylabel('ROI', fontsize=18)\n",
    "plt.xticks(rotation=90)\n",
    "\n",
    "# Plot\n",
    "ax.bar(x, y, color='green');"
   ]
  },
  {
   "cell_type": "markdown",
   "metadata": {},
   "source": [
    "## Horror: Runtime vs. ROI\n",
    "This figure plots runtime against return on investment. There is a slight negative correlation, indicating that Horror movies with a higher ROI tend to have lower runtime."
   ]
  },
  {
   "cell_type": "code",
   "execution_count": 58,
   "metadata": {},
   "outputs": [
    {
     "name": "stderr",
     "output_type": "stream",
     "text": [
      "/Users/ChristianTsui/anaconda3/envs/learn-env/lib/python3.8/site-packages/seaborn/_decorators.py:36: FutureWarning: Pass the following variables as keyword args: x, y. From version 0.12, the only valid positional argument will be `data`, and passing other arguments without an explicit keyword will result in an error or misinterpretation.\n",
      "  warnings.warn(\n"
     ]
    },
    {
     "data": {
      "image/png": "[encoded data removed]",
      "text/plain": [
       "<Figure size 576x576 with 1 Axes>"
      ]
     },
     "metadata": {},
     "output_type": "display_data"
    }
   ],
   "source": [
    "plot =sns.lmplot('roi','runtime_minutes',data = runtime_horror_df, height=8, truncate=False, fit_reg=True);\n",
    "plt.title('Horror: Runtime vs. ROI',fontsize=18);\n",
    "plt.xlabel('ROI', fontsize=14);\n",
    "plt.ylabel('Runtime', fontsize=14);"
   ]
  },
  {
   "cell_type": "markdown",
   "metadata": {},
   "source": [
    "# Question 2 Conclusion:"
   ]
  },
  {
   "cell_type": "code",
   "execution_count": null,
   "metadata": {},
   "outputs": [],
   "source": []
  },
  {
   "cell_type": "markdown",
   "metadata": {},
   "source": [
    "# Question 3: Studios and Production Budget of Successful Movies?\n",
    "This question explores the competitive landscape of the movie production industry. By looking at market positioning and movie production strategy, Microsoft can use these insights to see where it can take advantage in the industry."
   ]
  },
  {
   "cell_type": "markdown",
   "metadata": {},
   "source": [
    "## Method:"
   ]
  },
  {
   "cell_type": "markdown",
   "metadata": {},
   "source": [
    "### Construct Studios, Budget, ROI Dataframe"
   ]
  },
  {
   "cell_type": "code",
   "execution_count": 59,
   "metadata": {},
   "outputs": [
    {
     "name": "stdout",
     "output_type": "stream",
     "text": [
      "<class 'pandas.core.frame.DataFrame'>\n",
      "RangeIndex: 3387 entries, 0 to 3386\n",
      "Data columns (total 5 columns):\n",
      " #   Column          Non-Null Count  Dtype  \n",
      "---  ------          --------------  -----  \n",
      " 0   title           3387 non-null   object \n",
      " 1   studio          3382 non-null   object \n",
      " 2   domestic_gross  3359 non-null   float64\n",
      " 3   foreign_gross   2037 non-null   float64\n",
      " 4   year            3387 non-null   int64  \n",
      "dtypes: float64(2), int64(1), object(2)\n",
      "memory usage: 132.4+ KB\n"
     ]
    }
   ],
   "source": [
    "studios_df = pd.read_csv(gross_csv)\n",
    "studios_df['foreign_gross'] = studios_df['foreign_gross'].str.replace(',','').astype(float)\n",
    "studios_df.info()"
   ]
  },
  {
   "cell_type": "code",
   "execution_count": 60,
   "metadata": {},
   "outputs": [],
   "source": [
    "studios_df['total_gross'] = studios_df['domestic_gross'] + studios_df['foreign_gross']"
   ]
  },
  {
   "cell_type": "code",
   "execution_count": 61,
   "metadata": {},
   "outputs": [
    {
     "data": {
      "text/html": [
       "<div>\n",
       "<style scoped>\n",
       "    .dataframe tbody tr th:only-of-type {\n",
       "        vertical-align: middle;\n",
       "    }\n",
       "\n",
       "    .dataframe tbody tr th {\n",
       "        vertical-align: top;\n",
       "    }\n",
       "\n",
       "    .dataframe thead th {\n",
       "        text-align: right;\n",
       "    }\n",
       "</style>\n",
       "<table border=\"1\" class=\"dataframe\">\n",
       "  <thead>\n",
       "    <tr style=\"text-align: right;\">\n",
       "      <th></th>\n",
       "      <th>title</th>\n",
       "      <th>studio</th>\n",
       "      <th>domestic_gross</th>\n",
       "      <th>foreign_gross</th>\n",
       "      <th>year</th>\n",
       "      <th>total_gross</th>\n",
       "    </tr>\n",
       "  </thead>\n",
       "  <tbody>\n",
       "    <tr>\n",
       "      <th>0</th>\n",
       "      <td>Toy Story 3</td>\n",
       "      <td>BV</td>\n",
       "      <td>415000000.0</td>\n",
       "      <td>652000000.0</td>\n",
       "      <td>2010</td>\n",
       "      <td>1.067000e+09</td>\n",
       "    </tr>\n",
       "    <tr>\n",
       "      <th>1</th>\n",
       "      <td>Alice in Wonderland (2010)</td>\n",
       "      <td>BV</td>\n",
       "      <td>334200000.0</td>\n",
       "      <td>691300000.0</td>\n",
       "      <td>2010</td>\n",
       "      <td>1.025500e+09</td>\n",
       "    </tr>\n",
       "    <tr>\n",
       "      <th>2</th>\n",
       "      <td>Harry Potter and the Deathly Hallows Part 1</td>\n",
       "      <td>WB</td>\n",
       "      <td>296000000.0</td>\n",
       "      <td>664300000.0</td>\n",
       "      <td>2010</td>\n",
       "      <td>9.603000e+08</td>\n",
       "    </tr>\n",
       "  </tbody>\n",
       "</table>\n",
       "</div>"
      ],
      "text/plain": [
       "                                         title studio  domestic_gross  \\\n",
       "0                                  Toy Story 3     BV     415000000.0   \n",
       "1                   Alice in Wonderland (2010)     BV     334200000.0   \n",
       "2  Harry Potter and the Deathly Hallows Part 1     WB     296000000.0   \n",
       "\n",
       "   foreign_gross  year   total_gross  \n",
       "0    652000000.0  2010  1.067000e+09  \n",
       "1    691300000.0  2010  1.025500e+09  \n",
       "2    664300000.0  2010  9.603000e+08  "
      ]
     },
     "execution_count": 61,
     "metadata": {},
     "output_type": "execute_result"
    }
   ],
   "source": [
    "studios_df.head(3)"
   ]
  },
  {
   "cell_type": "code",
   "execution_count": 62,
   "metadata": {},
   "outputs": [],
   "source": [
    "studios_grouped = studios_df.groupby('studio')['total_gross'].sum().sort_values(ascending=False)"
   ]
  },
  {
   "cell_type": "code",
   "execution_count": 63,
   "metadata": {},
   "outputs": [],
   "source": [
    "budgets_clean.rename(columns = {'movie':'title'}, inplace=True)"
   ]
  },
  {
   "cell_type": "code",
   "execution_count": 64,
   "metadata": {},
   "outputs": [],
   "source": [
    "studios_budget = studios_df.merge(budgets_clean, on='title', how='left')"
   ]
  },
  {
   "cell_type": "code",
   "execution_count": 65,
   "metadata": {},
   "outputs": [
    {
     "name": "stdout",
     "output_type": "stream",
     "text": [
      "<class 'pandas.core.frame.DataFrame'>\n",
      "Int64Index: 3396 entries, 0 to 3395\n",
      "Data columns (total 12 columns):\n",
      " #   Column               Non-Null Count  Dtype         \n",
      "---  ------               --------------  -----         \n",
      " 0   title                3396 non-null   object        \n",
      " 1   studio               3391 non-null   object        \n",
      " 2   domestic_gross_x     3368 non-null   float64       \n",
      " 3   foreign_gross        2044 non-null   float64       \n",
      " 4   year                 3396 non-null   int64         \n",
      " 5   total_gross          2016 non-null   float64       \n",
      " 6   release_date         1247 non-null   datetime64[ns]\n",
      " 7   production_budget    1247 non-null   float64       \n",
      " 8   domestic_gross_y     1247 non-null   float64       \n",
      " 9   international_gross  1247 non-null   float64       \n",
      " 10  worldwide_gross      1247 non-null   float64       \n",
      " 11  roi                  1247 non-null   float64       \n",
      "dtypes: datetime64[ns](1), float64(8), int64(1), object(2)\n",
      "memory usage: 344.9+ KB\n"
     ]
    }
   ],
   "source": [
    "studios_budget.info()"
   ]
  },
  {
   "cell_type": "code",
   "execution_count": 66,
   "metadata": {},
   "outputs": [],
   "source": [
    "studios_budget.dropna(inplace=True)"
   ]
  },
  {
   "cell_type": "code",
   "execution_count": 67,
   "metadata": {},
   "outputs": [],
   "source": [
    "studios_budget.drop_duplicates(subset='title', inplace=True)"
   ]
  },
  {
   "cell_type": "code",
   "execution_count": 68,
   "metadata": {},
   "outputs": [
    {
     "name": "stdout",
     "output_type": "stream",
     "text": [
      "<class 'pandas.core.frame.DataFrame'>\n",
      "Int64Index: 1076 entries, 0 to 3280\n",
      "Data columns (total 12 columns):\n",
      " #   Column               Non-Null Count  Dtype         \n",
      "---  ------               --------------  -----         \n",
      " 0   title                1076 non-null   object        \n",
      " 1   studio               1076 non-null   object        \n",
      " 2   domestic_gross_x     1076 non-null   float64       \n",
      " 3   foreign_gross        1076 non-null   float64       \n",
      " 4   year                 1076 non-null   int64         \n",
      " 5   total_gross          1076 non-null   float64       \n",
      " 6   release_date         1076 non-null   datetime64[ns]\n",
      " 7   production_budget    1076 non-null   float64       \n",
      " 8   domestic_gross_y     1076 non-null   float64       \n",
      " 9   international_gross  1076 non-null   float64       \n",
      " 10  worldwide_gross      1076 non-null   float64       \n",
      " 11  roi                  1076 non-null   float64       \n",
      "dtypes: datetime64[ns](1), float64(8), int64(1), object(2)\n",
      "memory usage: 109.3+ KB\n"
     ]
    }
   ],
   "source": [
    "studios_budget.info()"
   ]
  },
  {
   "cell_type": "code",
   "execution_count": 69,
   "metadata": {},
   "outputs": [],
   "source": [
    "studios_budget = studios_budget.loc[:,['studio','production_budget','worldwide_gross','roi']]"
   ]
  },
  {
   "cell_type": "code",
   "execution_count": 70,
   "metadata": {},
   "outputs": [],
   "source": [
    "studios_budget.rename(columns={'worldwide_gross':'total_gross'},inplace=True)"
   ]
  },
  {
   "cell_type": "code",
   "execution_count": 71,
   "metadata": {},
   "outputs": [
    {
     "name": "stdout",
     "output_type": "stream",
     "text": [
      "<class 'pandas.core.frame.DataFrame'>\n",
      "Int64Index: 1076 entries, 0 to 3280\n",
      "Data columns (total 4 columns):\n",
      " #   Column             Non-Null Count  Dtype  \n",
      "---  ------             --------------  -----  \n",
      " 0   studio             1076 non-null   object \n",
      " 1   production_budget  1076 non-null   float64\n",
      " 2   total_gross        1076 non-null   float64\n",
      " 3   roi                1076 non-null   float64\n",
      "dtypes: float64(3), object(1)\n",
      "memory usage: 42.0+ KB\n"
     ]
    }
   ],
   "source": [
    "studios_budget.info()"
   ]
  },
  {
   "cell_type": "code",
   "execution_count": 72,
   "metadata": {},
   "outputs": [
    {
     "data": {
      "text/plain": [
       "studio\n",
       "Uni.        115\n",
       "Fox         107\n",
       "WB           99\n",
       "Sony         73\n",
       "Par.         71\n",
       "           ... \n",
       "Neon          1\n",
       "First         1\n",
       "OMNI/FSR      1\n",
       "FCW           1\n",
       "3D            1\n",
       "Length: 79, dtype: int64"
      ]
     },
     "execution_count": 72,
     "metadata": {},
     "output_type": "execute_result"
    }
   ],
   "source": [
    "# There are 79 distinct studios in this dataset\n",
    "studios_budget.value_counts('studio')"
   ]
  },
  {
   "cell_type": "code",
   "execution_count": 73,
   "metadata": {},
   "outputs": [],
   "source": [
    "x = studios_budget.groupby(['studio'])['production_budget'].mean().reset_index()\n",
    "avg_budget = pd.DataFrame(x)"
   ]
  },
  {
   "cell_type": "code",
   "execution_count": 74,
   "metadata": {},
   "outputs": [],
   "source": [
    "y = studios_budget.groupby(['studio'])['roi'].mean().reset_index()\n",
    "avg_roi = pd.DataFrame(y)"
   ]
  },
  {
   "cell_type": "code",
   "execution_count": 75,
   "metadata": {},
   "outputs": [],
   "source": [
    "studios_grouped = avg_budget.merge(avg_roi, on='studio', how='outer')"
   ]
  },
  {
   "cell_type": "code",
   "execution_count": 76,
   "metadata": {},
   "outputs": [],
   "source": [
    "studios_df_plt = studios_grouped.sort_values('production_budget', ascending=False)[:25]"
   ]
  },
  {
   "cell_type": "markdown",
   "metadata": {},
   "source": [
    "### Construct Studio Total Gross Genre Breakdown Dataframe"
   ]
  },
  {
   "cell_type": "code",
   "execution_count": 77,
   "metadata": {},
   "outputs": [
    {
     "data": {
      "text/html": [
       "<div>\n",
       "<style scoped>\n",
       "    .dataframe tbody tr th:only-of-type {\n",
       "        vertical-align: middle;\n",
       "    }\n",
       "\n",
       "    .dataframe tbody tr th {\n",
       "        vertical-align: top;\n",
       "    }\n",
       "\n",
       "    .dataframe thead th {\n",
       "        text-align: right;\n",
       "    }\n",
       "</style>\n",
       "<table border=\"1\" class=\"dataframe\">\n",
       "  <thead>\n",
       "    <tr style=\"text-align: right;\">\n",
       "      <th></th>\n",
       "      <th>title</th>\n",
       "      <th>studio</th>\n",
       "      <th>domestic_gross</th>\n",
       "      <th>foreign_gross</th>\n",
       "      <th>year</th>\n",
       "      <th>total_gross</th>\n",
       "    </tr>\n",
       "  </thead>\n",
       "  <tbody>\n",
       "    <tr>\n",
       "      <th>0</th>\n",
       "      <td>Toy Story 3</td>\n",
       "      <td>BV</td>\n",
       "      <td>415000000.0</td>\n",
       "      <td>652000000.0</td>\n",
       "      <td>2010</td>\n",
       "      <td>1.067000e+09</td>\n",
       "    </tr>\n",
       "    <tr>\n",
       "      <th>1</th>\n",
       "      <td>Alice in Wonderland (2010)</td>\n",
       "      <td>BV</td>\n",
       "      <td>334200000.0</td>\n",
       "      <td>691300000.0</td>\n",
       "      <td>2010</td>\n",
       "      <td>1.025500e+09</td>\n",
       "    </tr>\n",
       "    <tr>\n",
       "      <th>2</th>\n",
       "      <td>Harry Potter and the Deathly Hallows Part 1</td>\n",
       "      <td>WB</td>\n",
       "      <td>296000000.0</td>\n",
       "      <td>664300000.0</td>\n",
       "      <td>2010</td>\n",
       "      <td>9.603000e+08</td>\n",
       "    </tr>\n",
       "  </tbody>\n",
       "</table>\n",
       "</div>"
      ],
      "text/plain": [
       "                                         title studio  domestic_gross  \\\n",
       "0                                  Toy Story 3     BV     415000000.0   \n",
       "1                   Alice in Wonderland (2010)     BV     334200000.0   \n",
       "2  Harry Potter and the Deathly Hallows Part 1     WB     296000000.0   \n",
       "\n",
       "   foreign_gross  year   total_gross  \n",
       "0    652000000.0  2010  1.067000e+09  \n",
       "1    691300000.0  2010  1.025500e+09  \n",
       "2    664300000.0  2010  9.603000e+08  "
      ]
     },
     "execution_count": 77,
     "metadata": {},
     "output_type": "execute_result"
    }
   ],
   "source": [
    "# Merging Studios with Genre\n",
    "studios_df.head(3)"
   ]
  },
  {
   "cell_type": "code",
   "execution_count": 78,
   "metadata": {},
   "outputs": [
    {
     "data": {
      "text/html": [
       "<div>\n",
       "<style scoped>\n",
       "    .dataframe tbody tr th:only-of-type {\n",
       "        vertical-align: middle;\n",
       "    }\n",
       "\n",
       "    .dataframe tbody tr th {\n",
       "        vertical-align: top;\n",
       "    }\n",
       "\n",
       "    .dataframe thead th {\n",
       "        text-align: right;\n",
       "    }\n",
       "</style>\n",
       "<table border=\"1\" class=\"dataframe\">\n",
       "  <thead>\n",
       "    <tr style=\"text-align: right;\">\n",
       "      <th></th>\n",
       "      <th>title</th>\n",
       "      <th>main_genre</th>\n",
       "    </tr>\n",
       "  </thead>\n",
       "  <tbody>\n",
       "    <tr>\n",
       "      <th>0</th>\n",
       "      <td>Sunghursh</td>\n",
       "      <td>Action</td>\n",
       "    </tr>\n",
       "    <tr>\n",
       "      <th>1</th>\n",
       "      <td>One Day Before the Rainy Season</td>\n",
       "      <td>Biography</td>\n",
       "    </tr>\n",
       "    <tr>\n",
       "      <th>2</th>\n",
       "      <td>The Other Side of the Wind</td>\n",
       "      <td>Drama</td>\n",
       "    </tr>\n",
       "  </tbody>\n",
       "</table>\n",
       "</div>"
      ],
      "text/plain": [
       "                             title main_genre\n",
       "0                        Sunghursh     Action\n",
       "1  One Day Before the Rainy Season  Biography\n",
       "2       The Other Side of the Wind      Drama"
      ]
     },
     "execution_count": 78,
     "metadata": {},
     "output_type": "execute_result"
    }
   ],
   "source": [
    "imdb_raw = imdb_basics.rename(columns = {'primary_title':'title'})\n",
    "imdb_raw = imdb_raw.drop(['movie_id','original_title','start_year','runtime_minutes','genres'], axis=1)\n",
    "imdb_raw.head(3)"
   ]
  },
  {
   "cell_type": "code",
   "execution_count": 79,
   "metadata": {},
   "outputs": [],
   "source": [
    "# Merge imdb and studio\n",
    "studio_imdb = studios_df.merge(imdb_raw, on='title', how='left')"
   ]
  },
  {
   "cell_type": "code",
   "execution_count": 80,
   "metadata": {},
   "outputs": [
    {
     "name": "stdout",
     "output_type": "stream",
     "text": [
      "<class 'pandas.core.frame.DataFrame'>\n",
      "Int64Index: 3968 entries, 0 to 3967\n",
      "Data columns (total 7 columns):\n",
      " #   Column          Non-Null Count  Dtype  \n",
      "---  ------          --------------  -----  \n",
      " 0   title           3968 non-null   object \n",
      " 1   studio          3963 non-null   object \n",
      " 2   domestic_gross  3934 non-null   float64\n",
      " 3   foreign_gross   2392 non-null   float64\n",
      " 4   year            3968 non-null   int64  \n",
      " 5   total_gross     2358 non-null   float64\n",
      " 6   main_genre      3185 non-null   object \n",
      "dtypes: float64(3), int64(1), object(3)\n",
      "memory usage: 248.0+ KB\n"
     ]
    }
   ],
   "source": [
    "studio_imdb.info()"
   ]
  },
  {
   "cell_type": "code",
   "execution_count": 81,
   "metadata": {},
   "outputs": [],
   "source": [
    "studio_imdb.drop_duplicates(subset=['title'],inplace=True)"
   ]
  },
  {
   "cell_type": "code",
   "execution_count": 82,
   "metadata": {},
   "outputs": [],
   "source": [
    "studio_imdb.dropna(inplace=True)"
   ]
  },
  {
   "cell_type": "code",
   "execution_count": 83,
   "metadata": {},
   "outputs": [
    {
     "name": "stdout",
     "output_type": "stream",
     "text": [
      "<class 'pandas.core.frame.DataFrame'>\n",
      "Int64Index: 1545 entries, 0 to 3925\n",
      "Data columns (total 7 columns):\n",
      " #   Column          Non-Null Count  Dtype  \n",
      "---  ------          --------------  -----  \n",
      " 0   title           1545 non-null   object \n",
      " 1   studio          1545 non-null   object \n",
      " 2   domestic_gross  1545 non-null   float64\n",
      " 3   foreign_gross   1545 non-null   float64\n",
      " 4   year            1545 non-null   int64  \n",
      " 5   total_gross     1545 non-null   float64\n",
      " 6   main_genre      1545 non-null   object \n",
      "dtypes: float64(3), int64(1), object(3)\n",
      "memory usage: 96.6+ KB\n"
     ]
    }
   ],
   "source": [
    "studio_imdb.info()"
   ]
  },
  {
   "cell_type": "code",
   "execution_count": 84,
   "metadata": {},
   "outputs": [
    {
     "data": {
      "text/html": [
       "<div>\n",
       "<style scoped>\n",
       "    .dataframe tbody tr th:only-of-type {\n",
       "        vertical-align: middle;\n",
       "    }\n",
       "\n",
       "    .dataframe tbody tr th {\n",
       "        vertical-align: top;\n",
       "    }\n",
       "\n",
       "    .dataframe thead th {\n",
       "        text-align: right;\n",
       "    }\n",
       "</style>\n",
       "<table border=\"1\" class=\"dataframe\">\n",
       "  <thead>\n",
       "    <tr style=\"text-align: right;\">\n",
       "      <th></th>\n",
       "      <th>title</th>\n",
       "      <th>studio</th>\n",
       "      <th>domestic_gross</th>\n",
       "      <th>foreign_gross</th>\n",
       "      <th>year</th>\n",
       "      <th>total_gross</th>\n",
       "      <th>main_genre</th>\n",
       "    </tr>\n",
       "  </thead>\n",
       "  <tbody>\n",
       "    <tr>\n",
       "      <th>0</th>\n",
       "      <td>Toy Story 3</td>\n",
       "      <td>BV</td>\n",
       "      <td>415000000.0</td>\n",
       "      <td>652000000.0</td>\n",
       "      <td>2010</td>\n",
       "      <td>1.067000e+09</td>\n",
       "      <td>Adventure</td>\n",
       "    </tr>\n",
       "    <tr>\n",
       "      <th>3</th>\n",
       "      <td>Inception</td>\n",
       "      <td>WB</td>\n",
       "      <td>292600000.0</td>\n",
       "      <td>535700000.0</td>\n",
       "      <td>2010</td>\n",
       "      <td>8.283000e+08</td>\n",
       "      <td>Action</td>\n",
       "    </tr>\n",
       "    <tr>\n",
       "      <th>4</th>\n",
       "      <td>Shrek Forever After</td>\n",
       "      <td>P/DW</td>\n",
       "      <td>238700000.0</td>\n",
       "      <td>513900000.0</td>\n",
       "      <td>2010</td>\n",
       "      <td>7.526000e+08</td>\n",
       "      <td>Adventure</td>\n",
       "    </tr>\n",
       "    <tr>\n",
       "      <th>5</th>\n",
       "      <td>The Twilight Saga: Eclipse</td>\n",
       "      <td>Sum.</td>\n",
       "      <td>300500000.0</td>\n",
       "      <td>398000000.0</td>\n",
       "      <td>2010</td>\n",
       "      <td>6.985000e+08</td>\n",
       "      <td>Adventure</td>\n",
       "    </tr>\n",
       "    <tr>\n",
       "      <th>6</th>\n",
       "      <td>Iron Man 2</td>\n",
       "      <td>Par.</td>\n",
       "      <td>312400000.0</td>\n",
       "      <td>311500000.0</td>\n",
       "      <td>2010</td>\n",
       "      <td>6.239000e+08</td>\n",
       "      <td>Action</td>\n",
       "    </tr>\n",
       "  </tbody>\n",
       "</table>\n",
       "</div>"
      ],
      "text/plain": [
       "                        title studio  domestic_gross  foreign_gross  year  \\\n",
       "0                 Toy Story 3     BV     415000000.0    652000000.0  2010   \n",
       "3                   Inception     WB     292600000.0    535700000.0  2010   \n",
       "4         Shrek Forever After   P/DW     238700000.0    513900000.0  2010   \n",
       "5  The Twilight Saga: Eclipse   Sum.     300500000.0    398000000.0  2010   \n",
       "6                  Iron Man 2   Par.     312400000.0    311500000.0  2010   \n",
       "\n",
       "    total_gross main_genre  \n",
       "0  1.067000e+09  Adventure  \n",
       "3  8.283000e+08     Action  \n",
       "4  7.526000e+08  Adventure  \n",
       "5  6.985000e+08  Adventure  \n",
       "6  6.239000e+08     Action  "
      ]
     },
     "execution_count": 84,
     "metadata": {},
     "output_type": "execute_result"
    }
   ],
   "source": [
    "studio_imdb.head()"
   ]
  },
  {
   "cell_type": "code",
   "execution_count": 85,
   "metadata": {},
   "outputs": [],
   "source": [
    "studio_gross = studio_imdb.groupby(['studio','main_genre'])['total_gross'].sum()"
   ]
  },
  {
   "cell_type": "code",
   "execution_count": 86,
   "metadata": {},
   "outputs": [],
   "source": [
    "studio_gross = studio_gross.reset_index()"
   ]
  },
  {
   "cell_type": "code",
   "execution_count": 87,
   "metadata": {},
   "outputs": [
    {
     "data": {
      "text/plain": [
       "studio\n",
       "3D       1.600000e+07\n",
       "A24      4.090443e+08\n",
       "AF       4.100000e+06\n",
       "AGF      1.768000e+05\n",
       "AR       5.805000e+07\n",
       "             ...     \n",
       "WOW      4.940000e+04\n",
       "Wein.    3.492561e+09\n",
       "Yash     2.910045e+08\n",
       "Zee      1.671000e+06\n",
       "Zeit.    1.265420e+07\n",
       "Name: total_gross, Length: 147, dtype: float64"
      ]
     },
     "execution_count": 87,
     "metadata": {},
     "output_type": "execute_result"
    }
   ],
   "source": [
    "studio_gross.groupby(['studio'])['total_gross'].sum()"
   ]
  },
  {
   "cell_type": "markdown",
   "metadata": {},
   "source": [
    "# Question 3 Analysis:"
   ]
  },
  {
   "cell_type": "markdown",
   "metadata": {},
   "source": [
    "## Top 25 Studios by Average Production Budget\n",
    "This figure visualizes the average production budget of different studios sorted by total gross revenue. The purpose is to visualize the competitive landscape and get an idea for the resources Microsoft would be allocating towards movie production."
   ]
  },
  {
   "cell_type": "code",
   "execution_count": 88,
   "metadata": {},
   "outputs": [
    {
     "name": "stderr",
     "output_type": "stream",
     "text": [
      "/Users/ChristianTsui/anaconda3/envs/learn-env/lib/python3.8/site-packages/seaborn/_decorators.py:36: FutureWarning: Pass the following variables as keyword args: x, y. From version 0.12, the only valid positional argument will be `data`, and passing other arguments without an explicit keyword will result in an error or misinterpretation.\n",
      "  warnings.warn(\n"
     ]
    },
    {
     "data": {
      "image/png": "[encoded data removed]",
      "text/plain": [
       "<Figure size 720x576 with 1 Axes>"
      ]
     },
     "metadata": {},
     "output_type": "display_data"
    }
   ],
   "source": [
    "# Format Plot\n",
    "sns.set(rc={'figure.figsize':(10,8)})\n",
    "plot = sns.barplot('production_budget','studio' , data = studios_df_plt, order= studios_df_plt['studio'], palette='Paired');\n",
    "\n",
    "# Set Labels\n",
    "plot.set_title('Top 25 Studios by Average Production Budget', fontsize=18);\n",
    "plt.xlabel('Average Production Budget', fontsize=14);\n",
    "plt.ylabel('Studio', fontsize=14);"
   ]
  },
  {
   "cell_type": "markdown",
   "metadata": {},
   "source": [
    "## Production Budget vs. ROI"
   ]
  },
  {
   "cell_type": "markdown",
   "metadata": {},
   "source": [
    "This figure aggregates movie data by studio, and plots the relationship between production budget and return on investment. This figure indicates that there is a positive correlation between the two variables. Studios that have higher production budgets tend to have a higher return on investment."
   ]
  },
  {
   "cell_type": "code",
   "execution_count": 93,
   "metadata": {
    "scrolled": true
   },
   "outputs": [
    {
     "name": "stdout",
     "output_type": "stream",
     "text": [
      "<class 'pandas.core.frame.DataFrame'>\n",
      "Int64Index: 1076 entries, 0 to 3280\n",
      "Data columns (total 4 columns):\n",
      " #   Column             Non-Null Count  Dtype  \n",
      "---  ------             --------------  -----  \n",
      " 0   studio             1076 non-null   object \n",
      " 1   production_budget  1076 non-null   float64\n",
      " 2   total_gross        1076 non-null   float64\n",
      " 3   roi                1076 non-null   float64\n",
      "dtypes: float64(3), object(1)\n",
      "memory usage: 42.0+ KB\n"
     ]
    }
   ],
   "source": [
    "studios_budget.head()\n",
    "studios_budget.info()"
   ]
  },
  {
   "cell_type": "code",
   "execution_count": 92,
   "metadata": {},
   "outputs": [
    {
     "name": "stderr",
     "output_type": "stream",
     "text": [
      "/Users/ChristianTsui/anaconda3/envs/learn-env/lib/python3.8/site-packages/seaborn/_decorators.py:36: FutureWarning: Pass the following variables as keyword args: x, y. From version 0.12, the only valid positional argument will be `data`, and passing other arguments without an explicit keyword will result in an error or misinterpretation.\n",
      "  warnings.warn(\n"
     ]
    },
    {
     "data": {
      "image/png": "[encoded data removed]",
      "text/plain": [
       "<Figure size 576x576 with 1 Axes>"
      ]
     },
     "metadata": {},
     "output_type": "display_data"
    }
   ],
   "source": [
    "# remove outliers\n",
    "budget_roi_plt = studios_budget[studios_budget[\"roi\"].between(*studios_budget['roi'].quantile([0, 0.9]).tolist())]\n",
    "\n",
    "plot =sns.lmplot('production_budget','roi',data = budget_roi_plt, height=8, truncate=False, fit_reg=True);\n",
    "plt.title('Production Budget vs. Return on Investment',fontsize=18);\n",
    "plt.xlabel('Production Budget', fontsize=14);\n",
    "plt.ylabel('Return on Investment', fontsize=14);"
   ]
  },
  {
   "cell_type": "markdown",
   "metadata": {},
   "source": [
    "# Question 3 Conclusion:\n",
    "Based on the competitive landscape, Microsoft should tailor its strategy towards where it sees fit. Outside of movie production, Microsoft is similar to studios with larger production budgets such as Sony. However, I suggest producing movies with a lower production budget since Microsoft is new to the industry."
   ]
  }
 ],
 "metadata": {
  "kernelspec": {
   "display_name": "Python 3",
   "language": "python",
   "name": "python3"
  },
  "language_info": {
   "codemirror_mode": {
    "name": "ipython",
    "version": 3
   },
   "file_extension": ".py",
   "mimetype": "text/x-python",
   "name": "python",
   "nbconvert_exporter": "python",
   "pygments_lexer": "ipython3",
   "version": "3.8.5"
  }
 },
 "nbformat": 4,
 "nbformat_minor": 2
}
